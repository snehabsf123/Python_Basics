{
  "nbformat": 4,
  "nbformat_minor": 0,
  "metadata": {
    "colab": {
      "provenance": []
    },
    "kernelspec": {
      "name": "python3",
      "display_name": "Python 3"
    },
    "language_info": {
      "name": "python"
    }
  },
  "cells": [
    {
      "cell_type": "code",
      "execution_count": null,
      "metadata": {
        "id": "Gb2GwcrHNgu0"
      },
      "outputs": [],
      "source": []
    },
    {
      "cell_type": "markdown",
      "source": [
        "1. What are data structures, and why are they important\n",
        "\n",
        "---\n",
        "  Data structures are ways to store and organize data in a program so that it can be used efficiently.\n",
        "\n",
        "  They are important in python because\n",
        "> Organize data logically\n",
        "\n",
        "> Make code clean and easy to manage\n",
        "\n",
        "> Handle complex data in real-world applications\n",
        "\n",
        "eg:\n",
        "   # Using a list\n",
        "    fruits = [\"apple\", \"banana\", \"cherry\"]\n",
        "\n",
        "    fruits.append(\"orange\")  # Add a new item\n",
        "\n",
        "    print(fruits)\n",
        "\n"
      ],
      "metadata": {
        "id": "Tqsv20GENhV3"
      }
    },
    {
      "cell_type": "markdown",
      "source": [
        "2. Explain the difference between mutable and immutable data types with examples\n",
        "\n",
        "---\n",
        "\n",
        "Mutability means an object value is changed after created\n",
        " eg: List, Dic, Set\n",
        "\n",
        "\n",
        "\n",
        "   \n",
        "\n",
        "   list\t  -   Mutable\t    -   [1, 2, 3] → can be changed\n",
        "\n",
        "   dict\t  -  Mutable\t    -   {\"a\": 1} → can be changed\n",
        "\n",
        "   set\t  -   Mutable\t    -   {1, 2, 3}\n",
        "\n",
        "   Immutability means an object value is not changed after created\n",
        "   eg: int, str\n",
        "\n",
        "   int\t      Immutable\t          5 can't be changed\n",
        "\n",
        "   str\t      Immutable\t         \"hello\" → can't be changed\n",
        "\n",
        "\n"
      ],
      "metadata": {
        "id": "bd_9FTBQOemi"
      }
    },
    {
      "cell_type": "markdown",
      "source": [
        "3. What are the main differences between lists and tuples in Python\n",
        "\n",
        "---\n",
        "\n",
        "\n",
        "\n",
        "> Lists are mutable but Tuples are Immutable\n",
        "\n",
        "\n",
        "> Lists is denoted by Square brackets[] nut Tuples are denoted with paranthesis()\n",
        "\n",
        "> Need to use list for changeable collections but tuples for fixed collections that shouldn't be modified\n",
        "\n",
        "#\n",
        "\n",
        "> my_list = [1, 2, 3]\n",
        "\n",
        "   my_list[0] = 10          # Allowed\n",
        "\n",
        "   my_list.append(4)        # Allowed\n",
        "\n",
        "   print(my_list)           # Output: [10, 2, 3, 4]\n",
        "\n",
        "\n",
        "\n",
        "\n",
        "> my_tuple = (1, 2, 3)\n",
        "\n",
        "  my_tuple[0] = 10       # Error: tuples are immutable\n",
        "\n",
        "  print(my_tuple)          # Output: (1, 2, 3)\n",
        "\n",
        "\n",
        "\n",
        "\n",
        "\n",
        "\n",
        "\n",
        "\n",
        "\n",
        "\n",
        "\n",
        "\n",
        "\n",
        "\n"
      ],
      "metadata": {
        "id": "TvpXROhvPiUA"
      }
    },
    {
      "cell_type": "markdown",
      "source": [
        "4. Describe how dictionaries store data\n",
        "\n",
        "---\n",
        "A dictionary in Python is a collection of key-value pairs.\n",
        "\n",
        "It stores data as below:\n",
        "\n",
        "> When you add a key-value pair, Python computes a hash for the key.\n",
        "\n",
        "> This hash is used to find a slot (position) in memory to store the value.\n",
        "\n",
        "> When you access a value by key, Python:\n",
        "\n",
        "  Computes the hash of the key.\n",
        "\n",
        "  Looks up the value directly at the corresponding memory slot\n",
        "\n",
        "\n",
        "\n",
        "\n",
        "> my_dict = {\n",
        "    \"name\": \"Alice\",\n",
        "\n",
        "    \"age\": 25,\n",
        "\n",
        "    \"city\": \"New York\"\n",
        "    \n",
        "}\n",
        "\n",
        "print(my_dict[\"age\"])  # Output: 25\n",
        "\n",
        "\n",
        "\n",
        "> Here, \"age\" is the key, and 25 is the value stored.\n",
        "\n",
        "\n",
        "\n",
        "\n",
        "\n",
        "\n",
        "\n",
        "\n",
        "\n",
        "\n",
        "\n",
        "\n",
        "\n"
      ],
      "metadata": {
        "id": "nTRM89pCRXcd"
      }
    },
    {
      "cell_type": "markdown",
      "source": [
        "5. Why might you use a set instead of a list in Python\n",
        "\n",
        "---\n",
        "A set is an unordered collection of unique elements, while a list is an ordered collection that can have duplicates.\n",
        "\n",
        "\n",
        "\n",
        "my_list = [1, 2, 2, 3, 4, 4, 5]\n",
        "\n",
        "my_set = set(my_list)\n",
        "\n",
        "print(my_set)  # Output: {1, 2, 3, 4, 5}\n",
        "\n",
        "Set removes duplicates automatically.\n",
        "\n",
        "\n"
      ],
      "metadata": {
        "id": "Z3oXXxn4S-2r"
      }
    },
    {
      "cell_type": "markdown",
      "source": [
        "6. What is a string in Python, and how is it different from a list\n",
        "\n",
        "---\n",
        "\n",
        "\n",
        "\n",
        "> A string is a sequence of characters enclosed within single ('...') or double\n",
        "\n",
        "(\"...\") quotes.\n",
        "\n",
        "Example: \"Hello, World!\"\n",
        "\n",
        "Strings represent textual data.\n",
        "\n",
        "Strings are immutable, meaning once created, you cannot change their content.\n",
        "\n",
        "s = \"Hello\"\n",
        "\n",
        "s[0] = \"h\"  # Error! Strings are immutable\n",
        "\n",
        "print(s[0])   # Output: H\n",
        "\n",
        "> Lists is Mutable sequences of elements, used for collections of items\n",
        "\n",
        "lst = ['H', 'e', 'l', 'l', 'o']\n",
        "\n",
        "lst[0] = 'h'  # Allowed! Lists are mutable\n",
        "\n",
        "print(lst)    # Output: ['h', 'e', 'l', 'l', 'o']\n",
        "\n",
        "\n",
        "\n",
        "\n",
        "\n",
        "\n"
      ],
      "metadata": {
        "id": "PW408XkMTvsb"
      }
    },
    {
      "cell_type": "markdown",
      "source": [
        "7. How do tuples ensure data integrity in Python\n",
        "\n",
        "---\n",
        "\n",
        "No accidental modification Because you can’t change elements inside a tuple, the data remains constant throughout the program\n",
        "\n",
        "Safe to use as keys because Tuples can be used as keys in dictionaries or elements in sets (unlike lists), which require immutable objects.\n",
        "\n",
        "Predictable behavior Since tuples don't change, functions or parts of code that use them can rely on their contents remaining the same.\n",
        "\n",
        "eg:\n",
        "\n",
        "person = (\"Alice\", 30, \"Engineer\")\n",
        "\n",
        "person[1] = 31  # Error! Tuples are immutable\n",
        "\n",
        "print(person)     # Output: ('Alice', 30, 'Engineer')\n",
        "\n",
        "\n",
        "\n"
      ],
      "metadata": {
        "id": "HGwSkyASUrgc"
      }
    },
    {
      "cell_type": "markdown",
      "source": [
        "8. What is a hash table, and how does it relate to dictionaries in Python\n",
        "\n",
        "---\n",
        "Hash table is a data structure that stores key-value pairs and allows fast data retrieval.\n",
        "\n",
        "Hash table relate to Python Dictionaries as:\n",
        "\n",
        "Python dictionaries are implemented using hash tables under the hood\n",
        "\n",
        "When you access a value by key Python hashes the key and looks up the value directly at that memory location.\n"
      ],
      "metadata": {
        "id": "sLwlJRMNVL6W"
      }
    },
    {
      "cell_type": "markdown",
      "source": [
        "9. Can lists contain different data types in Python\n",
        "\n",
        "---\n",
        "Yes, In Python, lists can contain different data types all at once\n",
        "\n",
        "eg:\n",
        "my_list = [1, \"hello\", 3.14, True, [2, 3]]\n",
        "\n",
        "print(my_list)\n",
        "\n"
      ],
      "metadata": {
        "id": "kD0dLSBCV6Pl"
      }
    },
    {
      "cell_type": "markdown",
      "source": [
        "10. Explain why strings are immutable in Python\n",
        "\n",
        "---\n",
        "Strings are immutable to ensure safety, performance, consistency, and usability as dictionary keys\n",
        "\n",
        "Any change to a string creates a new string object rather than modifying the existing one.\n",
        "\n",
        "\n",
        "\n"
      ],
      "metadata": {
        "id": "K1ZCu2LGWKWn"
      }
    },
    {
      "cell_type": "markdown",
      "source": [
        "11. What advantages do dictionaries offer over lists for certain tasks\n",
        "\n",
        "---\n",
        "The dictionary lookup is simpler and faster.\n",
        "\n",
        "Store data as pairs (key:value), making it easier to organize and retrieve related data.\n",
        "\n",
        "Access items by meaningful keys, not numeric positions (indexes)\n"
      ],
      "metadata": {
        "id": "Iz5_8Qw_WnAK"
      }
    },
    {
      "cell_type": "markdown",
      "source": [
        "12. Describe a scenario where using a tuple would be preferable over a list\n",
        "\n",
        "---\n",
        "\n",
        "Scenario: Storing Fixed Configuration Data\n",
        "\n",
        "We’re writing a program that needs to store the days of the week.\n",
        "\n",
        "These days never change (Monday, Tuesday, Wednesday, etc.).\n",
        "\n",
        "We want to make sure the data remains constant throughout your program.\n",
        "\n",
        "We don’t need to add or remove days dynamically."
      ],
      "metadata": {
        "id": "IQv-f2TWW8f3"
      }
    },
    {
      "cell_type": "markdown",
      "source": [
        "13.  How do sets handle duplicate values in Python\n",
        "\n",
        "---\n",
        "Sets automatically remove duplicate values.\n",
        "\n",
        "When you add elements to a set, any duplicates are ignored, so only unique elements remain.\n",
        "\n",
        "eg: my_list = [1, 2, 2, 3, 4, 4, 5]\n",
        "\n",
        "my_set = set(my_list)\n",
        "\n",
        "print(my_set)  # Output: {1, 2, 3, 4, 5}\n",
        "\n"
      ],
      "metadata": {
        "id": "CRnD8rALXaKQ"
      }
    },
    {
      "cell_type": "markdown",
      "source": [
        "14. How does the “in” keyword work differently for lists and dictionaries\n",
        "\n",
        "---\n",
        "# in with Lists\n",
        "\n",
        "Checks if a value exists anywhere in the list.\n",
        "\n",
        "Searches each element one by one (linear search).\n",
        "\n",
        "\n",
        "Example:\n",
        "\n",
        "my_list = [10, 20, 30, 40]\n",
        "\n",
        "print(20 in my_list)  # True\n",
        "\n",
        "print(50 in my_list)  # False\n",
        "\n",
        "# in with Dictionaries\n",
        "\n",
        "Checks if the key exists in the dictionary.\n",
        "\n",
        "Looks up keys using a hash table (very fast).\n",
        "\n",
        "\n",
        "Example:\n",
        "\n",
        "my_dict = {'a': 1, 'b': 2, 'c': 3}\n",
        "\n",
        "print('b' in my_dict)  # True\n",
        "\n",
        "print('z' in my_dict)  # False\n"
      ],
      "metadata": {
        "id": "P7MjaxA1Xr5o"
      }
    },
    {
      "cell_type": "markdown",
      "source": [
        "15.  Can you modify the elements of a tuple? Explain why or why not\n",
        "\n",
        "---\n",
        "No, We cannot modify the elements of a tuple in Python because tuples are immutable.\n",
        "\n",
        "Any attempt to modify an element results in a TypeError.\n",
        "\n",
        "eg:  t = (1, 2, 3)\n",
        "\n",
        " t[0] = 10  # TypeError: 'tuple' object does not support item assignment\n",
        "\n"
      ],
      "metadata": {
        "id": "XmuNiqgwYNwy"
      }
    },
    {
      "cell_type": "markdown",
      "source": [
        "16. What is a nested dictionary, and give an example of its use case\n",
        "\n",
        "---\n",
        "A nested dictionary is a dictionary where one or more values are themselves dictionaries.\n",
        "\n",
        "Example Use Case: Student Records\n",
        "\n",
        "Imagine you want to store information about students and their subjects with grades.\n",
        "\n",
        "students = {\n",
        "\n",
        "    \"Alice\": {\n",
        "\n",
        "        \"Math\": 85,\n",
        "\n",
        "        \"English\": 92,\n",
        "\n",
        "        \"Science\": 78\n",
        "\n",
        "    },\n",
        "    \"Bob\": {\n",
        "\n",
        "        \"Math\": 90,\n",
        "\n",
        "        \"English\": 88,\n",
        "\n",
        "        \"Science\": 95\n",
        "    }\n",
        "}\n",
        "\n",
        "\n",
        "print(students[\"Alice\"][\"Math\"])  # Output: 85\n",
        "\n",
        "students[\"Bob\"][\"History\"] = 89\n",
        "\n"
      ],
      "metadata": {
        "id": "dh1jv15aYs8j"
      }
    },
    {
      "cell_type": "markdown",
      "source": [
        "17. Describe the time complexity of accessing elements in a dictionary\n",
        "\n",
        "---\n",
        "Accessing elements in a dictionary typically has average-case time complexity of O(1) (constant time).\n",
        "\n",
        "A dictionary uses a hash function to compute an index for a given key.However, with a good hash function and proper resizing, collisions are minimized and lookups remain practically O(1).\n"
      ],
      "metadata": {
        "id": "p5k8-2IhZYxE"
      }
    },
    {
      "cell_type": "markdown",
      "source": [
        "18. In what situations are lists preferred over dictionaries\n",
        "\n",
        "---\n",
        "situations are lists preferred over dictionaries:-\n",
        "\n",
        "When We care about the order of elements, and the order matters\n",
        "\n",
        "If We need to access elements by their numeric position\n",
        "\n",
        "When We want to store a sequence of items without associating each with a unique key\n",
        "\n",
        "\n"
      ],
      "metadata": {
        "id": "gfWmlVIqaXAL"
      }
    },
    {
      "cell_type": "markdown",
      "source": [
        "19. Why are dictionaries considered unordered, and how does that affect data retrieval\n",
        "\n",
        "---\n",
        "Dictionaries in Python were considered unordered because:-\n",
        "\n",
        "The language did not guarantee that the order of items in a dictionary would be preserved.\n",
        "\n",
        "If we inserted items in a certain order, iterating over the dictionary might return them in a completely different sequence.\n",
        "\n",
        "\n",
        "\n"
      ],
      "metadata": {
        "id": "WFPsOt7gbNrR"
      }
    },
    {
      "cell_type": "markdown",
      "source": [
        "20. Explain the difference between a list and a dictionary in terms of data retrieval.\n",
        "\n",
        "---\n",
        "\n",
        "\n",
        "\n",
        "# List: Index-Based Retrieval\n",
        "\n",
        "We retrieve data by position (index).\n",
        "\n",
        "Syntax: list[index]\n",
        "\n",
        "Time complexity: O(1) — constant time (very fast)\n",
        "\n",
        "# Dictionary: Key-Based Retrieval\n",
        "\n",
        "We retrieve data using a key (not position).\n",
        "\n",
        "Syntax: dict[key]\n",
        "\n",
        "Time complexity: O(1) (average case, due to hashing)"
      ],
      "metadata": {
        "id": "g1eykdHscHjl"
      }
    },
    {
      "cell_type": "markdown",
      "source": [
        "# Practial based Questions"
      ],
      "metadata": {
        "id": "IXfyaxQqdDWR"
      }
    },
    {
      "cell_type": "markdown",
      "source": [
        "1. Write a code to create a string with your name and print it\n",
        "\n",
        "---\n",
        "\n"
      ],
      "metadata": {
        "id": "2w2JQqlvdhJV"
      }
    },
    {
      "cell_type": "code",
      "source": [
        "\n",
        "my_name = \"Sneha\"\n",
        "print(\"My name is\", my_name)\n"
      ],
      "metadata": {
        "colab": {
          "base_uri": "https://localhost:8080/"
        },
        "id": "G_euDDERdonH",
        "outputId": "f87bd263-91dd-45b0-9648-655e7faa34bd"
      },
      "execution_count": 2,
      "outputs": [
        {
          "output_type": "stream",
          "name": "stdout",
          "text": [
            "My name is Sneha\n"
          ]
        }
      ]
    },
    {
      "cell_type": "markdown",
      "source": [
        "2. Write a code to find the length of the string \"Hello World\"\n",
        "\n",
        "---\n",
        "\n"
      ],
      "metadata": {
        "id": "Q8dvbyfTd9Cc"
      }
    },
    {
      "cell_type": "code",
      "source": [
        "\n",
        "text = \"Hello World\"\n",
        "length = len(text)\n",
        "print(\"Length of the string is:\", length)\n"
      ],
      "metadata": {
        "colab": {
          "base_uri": "https://localhost:8080/"
        },
        "id": "PrW5E1ATd2_4",
        "outputId": "0bd2b771-b64d-4dc6-dd47-1938ce8d148f"
      },
      "execution_count": 3,
      "outputs": [
        {
          "output_type": "stream",
          "name": "stdout",
          "text": [
            "Length of the string is: 11\n"
          ]
        }
      ]
    },
    {
      "cell_type": "markdown",
      "source": [
        "3. Write a code to slice the first 3 characters from the string \"Python Programming\"\n",
        "\n",
        "---\n",
        "\n"
      ],
      "metadata": {
        "id": "x4-ooXaYeTqC"
      }
    },
    {
      "cell_type": "code",
      "source": [
        "\n",
        "text = \"Python Programming\"\n",
        "sliced_text = text[:3]\n",
        "print(\"First 3 characters:\", sliced_text)\n"
      ],
      "metadata": {
        "colab": {
          "base_uri": "https://localhost:8080/"
        },
        "id": "X42Oa89seR_l",
        "outputId": "b2fc227e-da7e-4ade-a1e4-89c2a65929de"
      },
      "execution_count": 4,
      "outputs": [
        {
          "output_type": "stream",
          "name": "stdout",
          "text": [
            "First 3 characters: Pyt\n"
          ]
        }
      ]
    },
    {
      "cell_type": "markdown",
      "source": [
        "4. Write a code to convert the string \"hello\" to uppercase\n",
        "\n",
        "---\n",
        "\n"
      ],
      "metadata": {
        "id": "0Wahbhu7evih"
      }
    },
    {
      "cell_type": "code",
      "source": [
        "\n",
        "text = \"hello\"\n",
        "upper_text = text.upper()\n",
        "print(\"Uppercase:\", upper_text)\n"
      ],
      "metadata": {
        "colab": {
          "base_uri": "https://localhost:8080/"
        },
        "id": "O_uaiYEget5K",
        "outputId": "0e1d1b9f-faa7-428e-cc5f-3a60fef6a8da"
      },
      "execution_count": 5,
      "outputs": [
        {
          "output_type": "stream",
          "name": "stdout",
          "text": [
            "Uppercase: HELLO\n"
          ]
        }
      ]
    },
    {
      "cell_type": "markdown",
      "source": [
        "5. Write a code to replace the word \"apple\" with \"orange\" in the string \"I like apple\"\n",
        "\n",
        "---\n",
        "\n"
      ],
      "metadata": {
        "id": "DRSsZqBEfc9i"
      }
    },
    {
      "cell_type": "code",
      "source": [
        "\n",
        "text = \"I like apple\"\n",
        "new_text = text.replace(\"apple\", \"orange\")\n",
        "print(new_text)\n"
      ],
      "metadata": {
        "colab": {
          "base_uri": "https://localhost:8080/"
        },
        "id": "B6tyXsgdffkG",
        "outputId": "f50d6207-dbef-4e87-ad8f-6cb1168a173f"
      },
      "execution_count": 6,
      "outputs": [
        {
          "output_type": "stream",
          "name": "stdout",
          "text": [
            "I like orange\n"
          ]
        }
      ]
    },
    {
      "cell_type": "markdown",
      "source": [
        "6. Write a code to create a list with numbers 1 to 5 and print it\n",
        "\n",
        "---\n",
        "\n"
      ],
      "metadata": {
        "id": "Eco8yV0TfqZK"
      }
    },
    {
      "cell_type": "code",
      "source": [
        "\n",
        "numbers = [1, 2, 3, 4, 5]\n",
        "print(numbers)\n"
      ],
      "metadata": {
        "colab": {
          "base_uri": "https://localhost:8080/"
        },
        "id": "hJmAkeRJfmhA",
        "outputId": "e5767606-2ef8-425a-9ebe-13e6436a7218"
      },
      "execution_count": 7,
      "outputs": [
        {
          "output_type": "stream",
          "name": "stdout",
          "text": [
            "[1, 2, 3, 4, 5]\n"
          ]
        }
      ]
    },
    {
      "cell_type": "markdown",
      "source": [
        "7. Write a code to append the number 10 to the list [1, 2, 3, 4]\n",
        "\n",
        "---\n",
        "\n"
      ],
      "metadata": {
        "id": "Mo5bEtEWf5q5"
      }
    },
    {
      "cell_type": "code",
      "source": [
        "\n",
        "numbers = [1, 2, 3, 4]\n",
        "numbers.append(10)\n",
        "print(numbers)\n"
      ],
      "metadata": {
        "colab": {
          "base_uri": "https://localhost:8080/"
        },
        "id": "NwI6vdPHf2ub",
        "outputId": "7b317726-13ef-44bd-ec08-b2e585708454"
      },
      "execution_count": 8,
      "outputs": [
        {
          "output_type": "stream",
          "name": "stdout",
          "text": [
            "[1, 2, 3, 4, 10]\n"
          ]
        }
      ]
    },
    {
      "cell_type": "markdown",
      "source": [
        "8. Write a code to remove the number 3 from the list [1, 2, 3, 4, 5]\n",
        "\n",
        "---\n",
        "\n"
      ],
      "metadata": {
        "id": "jIOmLsPwgRB6"
      }
    },
    {
      "cell_type": "code",
      "source": [
        "\n",
        "numbers = [1, 2, 3, 4, 5]\n",
        "numbers.remove(3)\n",
        "print(numbers)\n"
      ],
      "metadata": {
        "colab": {
          "base_uri": "https://localhost:8080/"
        },
        "id": "kTy1o7HGgG3b",
        "outputId": "5b7a1064-fd86-476b-afe3-66477896344c"
      },
      "execution_count": 9,
      "outputs": [
        {
          "output_type": "stream",
          "name": "stdout",
          "text": [
            "[1, 2, 4, 5]\n"
          ]
        }
      ]
    },
    {
      "cell_type": "markdown",
      "source": [
        "9. Write a code to access the second element in the list ['a', 'b', 'c', 'd']\n",
        "\n",
        "---\n",
        "\n"
      ],
      "metadata": {
        "id": "AihIbyCzgdMJ"
      }
    },
    {
      "cell_type": "code",
      "source": [
        "letters = ['a', 'b', 'c', 'd']\n",
        "second_element = letters[1]\n",
        "print(\"Second element:\", second_element)"
      ],
      "metadata": {
        "colab": {
          "base_uri": "https://localhost:8080/"
        },
        "id": "x0UzbXZ8gbvE",
        "outputId": "a243d137-ad73-46f5-9159-30612af82cd0"
      },
      "execution_count": 10,
      "outputs": [
        {
          "output_type": "stream",
          "name": "stdout",
          "text": [
            "Second element: b\n"
          ]
        }
      ]
    },
    {
      "cell_type": "markdown",
      "source": [
        "10. Write a code to reverse the list [10, 20, 30, 40, 50].\n",
        "\n",
        "---\n",
        "\n"
      ],
      "metadata": {
        "id": "Q7CjHj6cgswJ"
      }
    },
    {
      "cell_type": "code",
      "source": [
        "numbers = [10, 20, 30, 40, 50]\n",
        "reversed_numbers = numbers[::-1]\n",
        "print(reversed_numbers)\n"
      ],
      "metadata": {
        "colab": {
          "base_uri": "https://localhost:8080/"
        },
        "id": "dEPsBB2Xgp-u",
        "outputId": "10e78a56-7121-4d86-a2a5-0d715a0e742f"
      },
      "execution_count": 12,
      "outputs": [
        {
          "output_type": "stream",
          "name": "stdout",
          "text": [
            "[50, 40, 30, 20, 10]\n"
          ]
        }
      ]
    },
    {
      "cell_type": "markdown",
      "source": [
        "11. Write a code to create a tuple with the elements 100, 200, 300 and print it.\n",
        "\n",
        "---\n",
        "\n"
      ],
      "metadata": {
        "id": "VHuN_BZ7hExC"
      }
    },
    {
      "cell_type": "code",
      "source": [
        "\n",
        "my_tuple = (100, 200, 300)\n",
        "print(my_tuple)\n"
      ],
      "metadata": {
        "colab": {
          "base_uri": "https://localhost:8080/"
        },
        "id": "HBrh35e4g8JU",
        "outputId": "17d88dc3-ed51-4aa8-f37c-2aa32fdbedd4"
      },
      "execution_count": 13,
      "outputs": [
        {
          "output_type": "stream",
          "name": "stdout",
          "text": [
            "(100, 200, 300)\n"
          ]
        }
      ]
    },
    {
      "cell_type": "markdown",
      "source": [
        "12.  Write a code to access the second-to-last element of the tuple ('red', 'green', 'blue', 'yellow').\n",
        "\n",
        "---\n",
        "\n"
      ],
      "metadata": {
        "id": "oX52osqLhV94"
      }
    },
    {
      "cell_type": "code",
      "source": [
        "\n",
        "colors = ('red', 'green', 'blue', 'yellow')\n",
        "second_to_last = colors[-2]\n",
        "print(\"Second-to-last element:\", second_to_last)\n"
      ],
      "metadata": {
        "colab": {
          "base_uri": "https://localhost:8080/"
        },
        "id": "7T8tmtEphRWq",
        "outputId": "1a8e9d46-2e0a-49c6-837e-e7b66e30bd13"
      },
      "execution_count": 14,
      "outputs": [
        {
          "output_type": "stream",
          "name": "stdout",
          "text": [
            "Second-to-last element: blue\n"
          ]
        }
      ]
    },
    {
      "cell_type": "markdown",
      "source": [
        "13. Write a code to find the minimum number in the tuple (10, 20, 5, 15).\n",
        "\n",
        "---\n",
        "\n"
      ],
      "metadata": {
        "id": "h91dOVihhoSv"
      }
    },
    {
      "cell_type": "code",
      "source": [
        "\n",
        "numbers = (10, 20, 5, 15)\n",
        "min_number = min(numbers)\n",
        "print(\"Minimum number:\", min_number)\n"
      ],
      "metadata": {
        "colab": {
          "base_uri": "https://localhost:8080/"
        },
        "id": "6yV4i7wshgjq",
        "outputId": "7c1f7758-8b81-4a05-fb64-ccaf6f7abe65"
      },
      "execution_count": 15,
      "outputs": [
        {
          "output_type": "stream",
          "name": "stdout",
          "text": [
            "Minimum number: 5\n"
          ]
        }
      ]
    },
    {
      "cell_type": "markdown",
      "source": [
        "14. Write a code to find the index of the element \"cat\" in the tuple ('dog', 'cat', 'rabbit').\n",
        "\n",
        "---\n",
        "\n"
      ],
      "metadata": {
        "id": "-q3078jJh3Tk"
      }
    },
    {
      "cell_type": "code",
      "source": [
        "\n",
        "animals = ('dog', 'cat', 'rabbit')\n",
        "index_cat = animals.index('cat')\n",
        "print(\"Index of 'cat':\", index_cat)\n"
      ],
      "metadata": {
        "colab": {
          "base_uri": "https://localhost:8080/"
        },
        "id": "LjRAK9VRhz0k",
        "outputId": "22af192a-0ced-4427-8739-e8c309876c64"
      },
      "execution_count": 16,
      "outputs": [
        {
          "output_type": "stream",
          "name": "stdout",
          "text": [
            "Index of 'cat': 1\n"
          ]
        }
      ]
    },
    {
      "cell_type": "markdown",
      "source": [
        "15. Write a code to create a tuple containing three different fruits and check if \"kiwi\" is in it.\n",
        "\n",
        "---\n",
        "\n"
      ],
      "metadata": {
        "id": "p_jv0QFUiM1Y"
      }
    },
    {
      "cell_type": "code",
      "source": [
        "\n",
        "fruits = ('apple', 'banana', 'orange')\n",
        "if 'kiwi' in fruits:\n",
        "    print(\"Kiwi is in the tuple.\")\n",
        "else:\n",
        "    print(\"Kiwi is NOT in the tuple.\")\n"
      ],
      "metadata": {
        "colab": {
          "base_uri": "https://localhost:8080/"
        },
        "id": "xnEYZHRziHgU",
        "outputId": "63ad69d9-163e-49dd-98ac-7f27c02b5bad"
      },
      "execution_count": 17,
      "outputs": [
        {
          "output_type": "stream",
          "name": "stdout",
          "text": [
            "Kiwi is NOT in the tuple.\n"
          ]
        }
      ]
    },
    {
      "cell_type": "markdown",
      "source": [
        "16. Write a code to create a set with the elements 'a', 'b', 'c' and print it.\n",
        "\n",
        "---\n",
        "\n"
      ],
      "metadata": {
        "id": "HbJYlhSmibjm"
      }
    },
    {
      "cell_type": "code",
      "source": [
        "\n",
        "my_set = {'a', 'b', 'c'}\n",
        "print(my_set)\n"
      ],
      "metadata": {
        "colab": {
          "base_uri": "https://localhost:8080/"
        },
        "id": "lbyQ_m-TiVc2",
        "outputId": "6e8fe645-f44e-4826-c941-5224a74ca0c9"
      },
      "execution_count": 19,
      "outputs": [
        {
          "output_type": "stream",
          "name": "stdout",
          "text": [
            "{'a', 'b', 'c'}\n"
          ]
        }
      ]
    },
    {
      "cell_type": "markdown",
      "source": [
        "17. Write a code to clear all elements from the set {1, 2, 3, 4, 5}.\n",
        "\n",
        "---\n",
        "\n"
      ],
      "metadata": {
        "id": "FS6QfkF2ixR7"
      }
    },
    {
      "cell_type": "code",
      "source": [
        "\n",
        "numbers = {1, 2, 3, 4, 5}\n",
        "numbers.clear()\n",
        "print(numbers)\n"
      ],
      "metadata": {
        "colab": {
          "base_uri": "https://localhost:8080/"
        },
        "id": "RAF_DW7dijZT",
        "outputId": "5e88d8cf-0625-4085-a90e-6dc1c17ea7ef"
      },
      "execution_count": 20,
      "outputs": [
        {
          "output_type": "stream",
          "name": "stdout",
          "text": [
            "set()\n"
          ]
        }
      ]
    },
    {
      "cell_type": "markdown",
      "source": [
        "18. Write a code to remove the element 4 from the set {1, 2, 3, 4}.\n",
        "\n",
        "---\n",
        "\n"
      ],
      "metadata": {
        "id": "FOpETL-NjHDn"
      }
    },
    {
      "cell_type": "code",
      "source": [
        "\n",
        "numbers = {1, 2, 3, 4}\n",
        "numbers.remove(4)\n",
        "print(numbers)\n"
      ],
      "metadata": {
        "colab": {
          "base_uri": "https://localhost:8080/"
        },
        "id": "GeiUVihoi-HQ",
        "outputId": "79e6142d-5741-483a-dfdd-02d27b9df7ef"
      },
      "execution_count": 22,
      "outputs": [
        {
          "output_type": "stream",
          "name": "stdout",
          "text": [
            "{1, 2, 3}\n"
          ]
        }
      ]
    },
    {
      "cell_type": "markdown",
      "source": [
        "19. Write a code to find the union of two sets {1, 2, 3} and {3, 4, 5}.\n",
        "\n",
        "---\n",
        "\n"
      ],
      "metadata": {
        "id": "ow3TMh-ejP5f"
      }
    },
    {
      "cell_type": "code",
      "source": [
        "\n",
        "set1 = {1, 2, 3}\n",
        "set2 = {3, 4, 5}\n",
        "union_set = set1.union(set2)\n",
        "print(\"Union of the sets:\", union_set)\n"
      ],
      "metadata": {
        "colab": {
          "base_uri": "https://localhost:8080/"
        },
        "id": "0Rnt13usjL-v",
        "outputId": "fce26048-9ce5-47ec-9add-46687bf7ee8c"
      },
      "execution_count": 23,
      "outputs": [
        {
          "output_type": "stream",
          "name": "stdout",
          "text": [
            "Union of the sets: {1, 2, 3, 4, 5}\n"
          ]
        }
      ]
    },
    {
      "cell_type": "markdown",
      "source": [
        "20. Write a code to find the intersection of two sets {1, 2, 3} and {2, 3, 4}.\n",
        "\n",
        "---\n",
        "\n"
      ],
      "metadata": {
        "id": "2kJ0HTjAjwKX"
      }
    },
    {
      "cell_type": "code",
      "source": [
        "\n",
        "set1 = {1, 2, 3}\n",
        "set2 = {2, 3, 4}\n",
        "intersection_set = set1.intersection(set2)\n",
        "print(\"Intersection of the sets:\", intersection_set)\n"
      ],
      "metadata": {
        "colab": {
          "base_uri": "https://localhost:8080/"
        },
        "id": "Uhxn9ED5jqMc",
        "outputId": "4b3814dc-c150-4193-fced-93a2bd55e8cc"
      },
      "execution_count": 24,
      "outputs": [
        {
          "output_type": "stream",
          "name": "stdout",
          "text": [
            "Intersection of the sets: {2, 3}\n"
          ]
        }
      ]
    },
    {
      "cell_type": "markdown",
      "source": [
        "21.  Write a code to create a dictionary with the keys \"name\", \"age\", and \"city\", and print it\n",
        "\n",
        "---\n",
        "\n"
      ],
      "metadata": {
        "id": "_YQMvEhlj66w"
      }
    },
    {
      "cell_type": "code",
      "source": [
        "# Create the dictionary\n",
        "person = {\n",
        "    \"name\": \"Sneha\",\n",
        "    \"age\": 25,\n",
        "    \"city\": \"Noida\"\n",
        "}\n",
        "\n",
        "# Print the dictionary\n",
        "print(person)\n"
      ],
      "metadata": {
        "colab": {
          "base_uri": "https://localhost:8080/"
        },
        "id": "zxKHL8boj5Lu",
        "outputId": "f961578e-e83c-43cc-bb87-938ddbb1ca81"
      },
      "execution_count": 25,
      "outputs": [
        {
          "output_type": "stream",
          "name": "stdout",
          "text": [
            "{'name': 'Sneha', 'age': 25, 'city': 'Noida'}\n"
          ]
        }
      ]
    },
    {
      "cell_type": "markdown",
      "source": [
        "22. Write a code to add a new key-value pair \"country\": \"USA\" to the dictionary {'name': 'John', 'age': 25}.\n",
        "\n",
        "---\n",
        "\n"
      ],
      "metadata": {
        "id": "RsY8QjGIkWaY"
      }
    },
    {
      "cell_type": "code",
      "source": [
        "\n",
        "person = {'name': 'John', 'age': 25}\n",
        "person['country'] = 'USA'\n",
        "print(person)\n"
      ],
      "metadata": {
        "colab": {
          "base_uri": "https://localhost:8080/"
        },
        "id": "XggrG1plkQd2",
        "outputId": "2cb5e293-fd7f-4a37-b7cf-d8c15a4568db"
      },
      "execution_count": 26,
      "outputs": [
        {
          "output_type": "stream",
          "name": "stdout",
          "text": [
            "{'name': 'John', 'age': 25, 'country': 'USA'}\n"
          ]
        }
      ]
    },
    {
      "cell_type": "markdown",
      "source": [
        "23. Write a code to access the value associated with the key \"name\" in the dictionary {'name': 'Alice', 'age': 30}.\n",
        "\n",
        "---\n",
        "\n"
      ],
      "metadata": {
        "id": "d1Azn42hkmlO"
      }
    },
    {
      "cell_type": "code",
      "source": [
        "\n",
        "person = {'name': 'Alice', 'age': 30}\n",
        "name_value = person['name']\n",
        "print(\"Name:\", name_value)\n"
      ],
      "metadata": {
        "colab": {
          "base_uri": "https://localhost:8080/"
        },
        "id": "XAEFAPWAkk8D",
        "outputId": "27b427c4-1434-435b-c152-85c35c988520"
      },
      "execution_count": 27,
      "outputs": [
        {
          "output_type": "stream",
          "name": "stdout",
          "text": [
            "Name: Alice\n"
          ]
        }
      ]
    },
    {
      "cell_type": "markdown",
      "source": [
        "24. Write a code to remove the key \"age\" from the dictionary {'name': 'Bob', 'age': 22, 'city': 'New York'}.\n",
        "\n",
        "---\n",
        "\n"
      ],
      "metadata": {
        "id": "c3i7tBSrloAc"
      }
    },
    {
      "cell_type": "code",
      "source": [
        "\n",
        "person = {'name': 'Bob', 'age': 22, 'city': 'New York'}\n",
        "person.pop('age', None)\n",
        "print(person)\n"
      ],
      "metadata": {
        "colab": {
          "base_uri": "https://localhost:8080/"
        },
        "id": "Gw5jatamld1G",
        "outputId": "b6b650c7-db9d-4be0-e55a-057563a3b603"
      },
      "execution_count": 28,
      "outputs": [
        {
          "output_type": "stream",
          "name": "stdout",
          "text": [
            "{'name': 'Bob', 'city': 'New York'}\n"
          ]
        }
      ]
    },
    {
      "cell_type": "markdown",
      "source": [
        "25. Write a code to check if the key \"city\" exists in the dictionary {'name': 'Alice', 'city': 'Paris'}.\n",
        "\n",
        "---\n",
        "\n"
      ],
      "metadata": {
        "id": "bwOq9R_XmEAF"
      }
    },
    {
      "cell_type": "code",
      "source": [
        "\n",
        "person = {'name': 'Alice', 'city': 'Paris'}\n",
        "if 'city' in person:\n",
        "    print(\"Key 'city' exists in the dictionary.\")\n",
        "else:\n",
        "    print(\"Key 'city' does NOT exist in the dictionary.\")\n"
      ],
      "metadata": {
        "colab": {
          "base_uri": "https://localhost:8080/"
        },
        "id": "xu9quKpkl9CW",
        "outputId": "f522cacb-8bf7-40cc-97b2-c4d381b33c34"
      },
      "execution_count": 29,
      "outputs": [
        {
          "output_type": "stream",
          "name": "stdout",
          "text": [
            "Key 'city' exists in the dictionary.\n"
          ]
        }
      ]
    },
    {
      "cell_type": "markdown",
      "source": [
        "26. Write a code to create a list, a tuple, and a dictionary, and print them all.\n",
        "\n",
        "---\n",
        "\n"
      ],
      "metadata": {
        "id": "KOnuVtPMmMPR"
      }
    },
    {
      "cell_type": "code",
      "source": [
        "\n",
        "my_list = [1, 2, 3]\n",
        "my_tuple = ('a', 'b', 'c')\n",
        "my_dict = {'name': 'Alice', 'age': 30}\n",
        "print(\"List:\", my_list)\n",
        "print(\"Tuple:\", my_tuple)\n",
        "print(\"Dictionary:\", my_dict)\n"
      ],
      "metadata": {
        "colab": {
          "base_uri": "https://localhost:8080/"
        },
        "id": "ykxllOiwmKfP",
        "outputId": "8069a9c1-7a8e-4391-f3c2-5b9c528c37ec"
      },
      "execution_count": 30,
      "outputs": [
        {
          "output_type": "stream",
          "name": "stdout",
          "text": [
            "List: [1, 2, 3]\n",
            "Tuple: ('a', 'b', 'c')\n",
            "Dictionary: {'name': 'Alice', 'age': 30}\n"
          ]
        }
      ]
    },
    {
      "cell_type": "markdown",
      "source": [
        "27. Write a code to create a list of 5 random numbers between 1 and 100, sort it in ascending order, and print the\n",
        "result.(replaced)\n",
        "\n",
        "---\n",
        "\n"
      ],
      "metadata": {
        "id": "hsTpFihRmcMa"
      }
    },
    {
      "cell_type": "code",
      "source": [
        "import random\n",
        "numbers = sorted([random.randint(1, 100) for _ in range(5)])\n",
        "print(numbers)\n"
      ],
      "metadata": {
        "colab": {
          "base_uri": "https://localhost:8080/"
        },
        "id": "oOszxPDhmaSt",
        "outputId": "c1028a0b-9639-45e1-c7a4-36fc16f1e145"
      },
      "execution_count": 33,
      "outputs": [
        {
          "output_type": "stream",
          "name": "stdout",
          "text": [
            "[48, 53, 61, 72, 98]\n"
          ]
        }
      ]
    },
    {
      "cell_type": "markdown",
      "source": [
        "28. Write a code to create a list with strings and print the element at the third index.\n",
        "\n",
        "---\n",
        "\n"
      ],
      "metadata": {
        "id": "PrBunjWhnGmU"
      }
    },
    {
      "cell_type": "code",
      "source": [
        "\n",
        "fruits = ['apple', 'banana', 'cherry', 'date', 'elderberry']\n",
        "print(\"Element at index 3:\", fruits[3])\n"
      ],
      "metadata": {
        "colab": {
          "base_uri": "https://localhost:8080/"
        },
        "id": "rjI8yMEdm45W",
        "outputId": "92e28b46-88ef-4086-fef0-8b1e2a592ac0"
      },
      "execution_count": 34,
      "outputs": [
        {
          "output_type": "stream",
          "name": "stdout",
          "text": [
            "Element at index 3: date\n"
          ]
        }
      ]
    },
    {
      "cell_type": "markdown",
      "source": [
        "29. Write a code to combine two dictionaries into one and print the result.\n",
        "\n",
        "---\n",
        "\n"
      ],
      "metadata": {
        "id": "vxUnz9ScnSoe"
      }
    },
    {
      "cell_type": "code",
      "source": [
        "\n",
        "dict1 = {'name': 'Alice', 'age': 25}\n",
        "dict2 = {'city': 'New York', 'country': 'USA'}\n",
        "combined_dict = dict1 | dict2\n",
        "print(combined_dict)\n"
      ],
      "metadata": {
        "colab": {
          "base_uri": "https://localhost:8080/"
        },
        "id": "O0DCRohynPtW",
        "outputId": "0e3281d2-8bac-40a7-a80d-54201abd720e"
      },
      "execution_count": 35,
      "outputs": [
        {
          "output_type": "stream",
          "name": "stdout",
          "text": [
            "{'name': 'Alice', 'age': 25, 'city': 'New York', 'country': 'USA'}\n"
          ]
        }
      ]
    },
    {
      "cell_type": "markdown",
      "source": [
        "30. Write a code to convert a list of strings into a set.\n",
        "\n",
        "---\n",
        "\n"
      ],
      "metadata": {
        "id": "HrKhfc6qneyg"
      }
    },
    {
      "cell_type": "code",
      "source": [
        "\n",
        "string_list = ['apple', 'banana', 'apple', 'cherry', 'banana']\n",
        "string_set = set(string_list)\n",
        "print(string_set)\n"
      ],
      "metadata": {
        "colab": {
          "base_uri": "https://localhost:8080/"
        },
        "id": "P0hcXMzXnc3F",
        "outputId": "a857176f-91fa-4ea0-d07d-ed8d7b4317d7"
      },
      "execution_count": 36,
      "outputs": [
        {
          "output_type": "stream",
          "name": "stdout",
          "text": [
            "{'banana', 'cherry', 'apple'}\n"
          ]
        }
      ]
    },
    {
      "cell_type": "code",
      "source": [],
      "metadata": {
        "id": "Osusb2zpnx2F"
      },
      "execution_count": null,
      "outputs": []
    }
  ]
}