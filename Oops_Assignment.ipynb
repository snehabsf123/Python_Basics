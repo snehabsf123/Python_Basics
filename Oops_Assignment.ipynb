{
  "nbformat": 4,
  "nbformat_minor": 0,
  "metadata": {
    "colab": {
      "provenance": []
    },
    "kernelspec": {
      "name": "python3",
      "display_name": "Python 3"
    },
    "language_info": {
      "name": "python"
    }
  },
  "cells": [
    {
      "cell_type": "code",
      "execution_count": null,
      "metadata": {
        "id": "Geraz15P17a8"
      },
      "outputs": [],
      "source": []
    },
    {
      "cell_type": "markdown",
      "source": [
        "Q1.  What is Object-Oriented Programming (OOP)+\n",
        "\n",
        "---\n",
        "Object-Oriented Programming is a programming paradigm based on the concept of \"objects\", which can contain data in the form of attributes or properties and code in the form methods\n",
        "\n",
        "eg:\n",
        "\n",
        "    class Animal:\n",
        "\n",
        "    def speak(self):\n",
        "\n",
        "        print(\"Animal speaks\")\n",
        "\n",
        "    class Dog(Animal):\n",
        "\n",
        "    def speak(self):\n",
        "\n",
        "        print(\"Dog barks\")\n",
        "\n",
        "    class Cat(Animal):\n",
        "\n",
        "    def speak(self):\n",
        "\n",
        "        print(\"Cat meows\")\n",
        "\n",
        "    for animal in [Dog(), Cat()]:\n",
        "\n",
        "    animal.speak()\n"
      ],
      "metadata": {
        "id": "JHh9DDLX2s3t"
      }
    },
    {
      "cell_type": "markdown",
      "source": [
        "Q2   What is a class in OOP+\n",
        "\n",
        "---\n",
        "A class is a blueprint or template for creating objects. It defines the attributes (data) and methods (functions) that the objects created from the class will have.\n",
        "\n",
        "    class Car:\n",
        "    \n",
        "     def __init__(self, brand, year):\n",
        "\n",
        "     self.brand = brand     \n",
        "\n",
        "     self.year = year        \n",
        "\n",
        "   \n",
        "     def drive(self):\n",
        "\n",
        "        print(f\"The {self.brand} is driving.\")\n",
        "\n",
        "\n",
        "    car1 = Car(\"Toyota\", 2020)\n",
        "\n",
        "    car2 = Car(\"Tesla\", 2023)\n",
        "\n",
        "    car1.drive()  \n",
        "\n",
        "    car2.drive()  \n",
        "\n"
      ],
      "metadata": {
        "id": "-5bK4bS95p_a"
      }
    },
    {
      "cell_type": "markdown",
      "source": [
        "Q3.  What is an object in OOP\n",
        "\n",
        "---\n",
        "An object is an instance of a class. It is a real, usable entity created based on the class blueprint.\n",
        "eg:\n",
        "\n",
        "    class Dog:\n",
        "    def __init__(self, name, breed):\n",
        "        self.name = name      # attribute\n",
        "        self.breed = breed    # attribute\n",
        "\n",
        "    def bark(self):          \n",
        "        print(f\"{self.name} says woof!\")\n",
        "\n",
        "    \n",
        "    dog1 = Dog(\"Buddy\", \"Golden Retriever\")\n",
        "    dog2 = Dog(\"Luna\", \"Labrador\")\n",
        "\n",
        "\n",
        "    dog1.bark()  # Output: Buddy says woof!\n",
        "    dog2.bark()  # Output: Luna says woof!\n"
      ],
      "metadata": {
        "id": "E_9C890p6PE6"
      }
    },
    {
      "cell_type": "markdown",
      "source": [
        "Q4. What is the difference between abstraction and encapsulation?\n",
        "\n",
        "---\n",
        "Abstraction is Hiding complex implementation and showing only essential features but Encapsulation is Hiding internal data and restricting access to it.\n",
        "\n",
        "Abstraction is Using abstract classes, interfaces, or methods but Encapsulation is Using access modifiers (like private, public) and getters/setters\n",
        "\n",
        "Real worlds example for Abstraction is Using a TV: You use buttons without knowing how it works inside\n",
        "Real worlds example for Abstraction is Remote control’s battery is enclosed—you can’t tamper directly"
      ],
      "metadata": {
        "id": "nygDSg1x6mb4"
      }
    },
    {
      "cell_type": "markdown",
      "source": [
        "Q5.  What are dunder methods in Python?\n",
        "\n",
        "---\n",
        "Dunder methods are special methods in Python that have double underscores at the beginning and end of their names, like __init__, __str__, __len__, etc.\n",
        "\n",
        "eg:\n",
        "\n",
        "    class Book:\n",
        "    def __init__(self, title, pages):\n",
        "        self.title = title\n",
        "        self.pages = pages\n",
        "\n",
        "    def __str__(self):\n",
        "        return f\"{self.title} ({self.pages} pages)\"\n",
        "\n",
        "    def __len__(self):\n",
        "        return self.pages\n",
        "\n",
        "    book = Book(\"1984\", 328)\n",
        "\n",
        "    print(book)        # Calls __str__: 1984 (328 pages)\n",
        "    print(len(book))   # Calls __len__: 328\n"
      ],
      "metadata": {
        "id": "sx5zzpIl6oeZ"
      }
    },
    {
      "cell_type": "markdown",
      "source": [
        "Q6. Explain the concept of inheritance in OOP?\n",
        "\n",
        "---\n",
        "Inheritance is a fundamental concept in OOP that allows one class (child/subclass) to inherit the properties and behaviors (methods and attributes) of another class (parent/superclass).\n",
        "\n",
        "eg:\n",
        "\n",
        "\n",
        "    class Animal:\n",
        "    def __init__(self, name):\n",
        "        self.name = name\n",
        "\n",
        "    def speak(self):\n",
        "        print(f\"{self.name} makes a sound.\")\n",
        "\n",
        "\n",
        "    class Dog(Animal):\n",
        "    def speak(self):  # Method override (Polymorphism)\n",
        "        print(f\"{self.name} barks.\")\n",
        "\n",
        "\n",
        "    class Cat(Animal):\n",
        "    def speak(self):\n",
        "        print(f\"{self.name} meows.\")\n",
        "\n",
        "\n",
        "      dog = Dog(\"Buddy\")\n",
        "    cat = Cat(\"Whiskers\")\n",
        "\n",
        "    dog.speak()  \n",
        "    cat.speak()  \n",
        "\n"
      ],
      "metadata": {
        "id": "sUzei5pj7E2f"
      }
    },
    {
      "cell_type": "markdown",
      "source": [
        "Q7. What is polymorphism in OOP?\n",
        "\n",
        "---\n",
        "Polymorphism means \"many forms\". In OOP, it refers to the ability of different classes to provide a different implementation of the same method or interface.\n",
        "\n",
        "eg:\n",
        "\n",
        "    class Animal:\n",
        "    def speak(self):\n",
        "        print(\"Animal makes a sound\")\n",
        "\n",
        "    class Dog(Animal):\n",
        "    def speak(self):\n",
        "        print(\"Dog barks\")\n",
        "\n",
        "    class Cat(Animal):\n",
        "    def speak(self):\n",
        "        print(\"Cat meows\")\n",
        "\n",
        "\n",
        "    def make_animal_speak(animal):\n",
        "    animal.speak()\n",
        "\n",
        "    animals = [Dog(), Cat(), Animal()]\n",
        "    for a in animals:\n",
        "    make_animal_speak(a)\n",
        "\n"
      ],
      "metadata": {
        "id": "PjKNZ-9X7tRg"
      }
    },
    {
      "cell_type": "markdown",
      "source": [
        "Q8.  How is encapsulation achieved in Python?\n",
        "\n",
        "---\n",
        "Encapsulation is the OOP concept of hiding internal object details and restricting direct access to some of an object’s attributes or methods.\n",
        "eg:\n",
        "\n",
        "    class BankAccount:\n",
        "    def __init__(self, owner, balance):\n",
        "        self.owner = owner           # Public attribute\n",
        "        self.__balance = balance     # Private attribute\n",
        "\n",
        "    def deposit(self, amount):\n",
        "        if amount > 0:\n",
        "            self.__balance += amount\n",
        "\n",
        "    def withdraw(self, amount):\n",
        "        if 0 < amount <= self.__balance:\n",
        "            self.__balance -= amount\n",
        "\n",
        "    def get_balance(self):  # Getter\n",
        "        return self.__balance\n",
        "\n"
      ],
      "metadata": {
        "id": "mMpYXIDZ8Ryu"
      }
    },
    {
      "cell_type": "markdown",
      "source": [
        "Q9. What is a constructor in Python?\n",
        "\n",
        "---\n",
        "A constructor is a special method in Python that is automatically called when a new object is created from a class.\n",
        "eg:\n",
        "\n",
        "    class Person:\n",
        "    def __init__(self, name, age):\n",
        "        self.name = name    \n",
        "        self.age = age\n",
        "\n"
      ],
      "metadata": {
        "id": "fOljDRD08qEA"
      }
    },
    {
      "cell_type": "markdown",
      "source": [
        "Q10. What are class and static methods in Python?\n",
        "\n",
        "---\n",
        "A class method is bound to the class, not the instance. It can access or modify class-level data.\n",
        "Defined using the @classmethod decorator\n",
        "First parameter is conventionally named cls (refers to the class)\n",
        "\n",
        "\n",
        "\n",
        "\n",
        "\n",
        "A static method is like a regular function placed inside a class for logical grouping.\n",
        "It doesn't access class (cls) or instance (self) data.\n",
        "Defined using the @staticmethod decorator.\n"
      ],
      "metadata": {
        "id": "Wselgxft87Zz"
      }
    },
    {
      "cell_type": "markdown",
      "source": [
        "Q11.  What is method overloading in Python?\n",
        "\n",
        "---\n",
        "Method Overloading means having multiple methods with the same name but different parameters in the same class.\n",
        "eg:\n",
        "\n",
        "    class Math:\n",
        "    def add(self, a, b=0):\n",
        "        return a + b\n",
        "\n",
        "    m = Math()\n",
        "    print(m.add(5))\n",
        "    print(m.add(5, 3))  \n",
        "\n"
      ],
      "metadata": {
        "id": "1_6KpIYV-W55"
      }
    },
    {
      "cell_type": "markdown",
      "source": [
        "Q12. What is method overriding in OOP?\n",
        "\n",
        "---\n",
        "Method overriding occurs when a child class provides its own version of a method that is already defined in its parent class.\n",
        "eg:\n",
        "\n",
        "    class Animal:\n",
        "    def speak(self):\n",
        "        print(\"Animal makes a sound\")\n",
        "\n",
        "    class Dog(Animal):\n",
        "    def speak(self):  # Overriding method\n",
        "        print(\"Dog barks\")\n",
        "\n",
        "    class Cat(Animal):\n",
        "    def speak(self):  # Overriding method\n",
        "        print(\"Cat meows\")\n",
        "\n",
        "\n",
        "    dog = Dog()\n",
        "    cat = Cat()\n",
        "\n",
        "    dog.speak()  # Output: Dog barks\n",
        "    cat.speak()  # Output: Cat meows\n",
        "\n"
      ],
      "metadata": {
        "id": "STj4FuoH-vb5"
      }
    },
    {
      "cell_type": "markdown",
      "source": [
        "Q13. What is a property decorator in Python?\n",
        "\n",
        "---\n",
        "The property decorator allows you to define methods that act like attributes.\n",
        "It helps you manage attribute access (getting, setting, deleting) without changing the syntax for the user.\n",
        "eg:\n",
        "\n",
        "    class Person:\n",
        "    def __init__(self, name):\n",
        "        self._name = name  # Note the underscore (private convention)\n",
        "\n",
        "    @property\n",
        "    def name(self):\n",
        "        return self._name  # Getter method\n",
        "\n",
        "    @name.setter\n",
        "    def name(self, value):\n",
        "        if not value:\n",
        "            raise ValueError(\"Name cannot be empty\")\n",
        "        self._name = value  # Setter method\n",
        "\n",
        "    p = Person(\"Alice\")\n",
        "    print(p.name)  # Access like an attribute\n",
        "\n",
        "    p.name = \"Bob\"  # Calls setter to update\n",
        "    print(p.name)\n",
        "\n",
        "\n",
        "\n"
      ],
      "metadata": {
        "id": "UmjCImvS_M48"
      }
    },
    {
      "cell_type": "markdown",
      "source": [
        "Q14. Why is polymorphism important in OOP?\n",
        "\n",
        "\n",
        "---\n",
        "polymorphism is important in Object-Oriented Programming as:\n",
        "\n",
        "Code Flexibility and Extensibility\n",
        "\n",
        "Simplifies Code Maintenance\n",
        "\n",
        "Supports Runtime Behavior Changes\n",
        "\n",
        "Promotes Code Reusability\n",
        "\n",
        "Enables Abstraction and Encapsulation\n"
      ],
      "metadata": {
        "id": "Lc88B5l0_rIh"
      }
    },
    {
      "cell_type": "markdown",
      "source": [
        "Q15. What is an abstract class in Python?\n",
        "\n",
        "---\n",
        "\n",
        "An abstract class is a class that cannot be instantiated directly and is meant to be a base class for other classes.\n",
        "eg:\n",
        "\n",
        "    from abc import ABC, abstractmethod\n",
        "\n",
        "    class Animal(ABC):\n",
        "    @abstractmethod\n",
        "    def speak(self):\n",
        "        pass  \n",
        "\n",
        "    class Dog(Animal):\n",
        "    def speak(self):\n",
        "        print(\"Bark\")\n",
        "\n",
        "    class Cat(Animal):\n",
        "    def speak(self):\n",
        "        print(\"Meow\")\n",
        "\n",
        "\n",
        "    dog = Dog()\n",
        "    dog.speak()  # Output: Bark\n",
        "\n",
        "    cat = Cat()\n",
        "    cat.speak()  # Output: Meow\n"
      ],
      "metadata": {
        "id": "ZUbfdPIbAVUK"
      }
    },
    {
      "cell_type": "markdown",
      "source": [
        "Q16.  What are the advantages of OOP?\n",
        "\n",
        "---\n",
        "Advantages of Oops are:\n",
        "1. . Modularity\n",
        "\n",
        "2. Reusability\n",
        "\n",
        "3. Scalability and Maintainability\n",
        "\n",
        "4. Encapsulation\n",
        "\n",
        "5. Abstraction\n",
        "\n",
        "6. Polymorphism\n",
        "\n",
        "7. Improved Productivity\n",
        "\n",
        "8. Real-World Modeling\n"
      ],
      "metadata": {
        "id": "DRMbWVuuAzo9"
      }
    },
    {
      "cell_type": "markdown",
      "source": [
        "Q17. What is the difference between a class variable and an instance variable?\n",
        "\n",
        "---\n",
        "*** Class Variable***\n",
        "\n",
        "Shared by all instances of the class.\n",
        "\n",
        "Defined inside the class but outside any method.\n",
        "\n",
        "If you change it via the class name, the change reflects for all instances.\n",
        "\n",
        "Used for properties or data common to all objects of that class.\n",
        "\n",
        "\n",
        "*** Instance Variable***\n",
        "\n",
        "Unique to each object (instance).\n",
        "\n",
        "Usually defined inside methods (like __init__) with self.\n",
        "\n",
        "Each object has its own copy; changing it affects only that object.\n",
        "\n",
        "Used for data specific to each individual object.\n"
      ],
      "metadata": {
        "id": "bMhf1tkwBbXV"
      }
    },
    {
      "cell_type": "markdown",
      "source": [
        "Q18. What is multiple inheritance in Python?\n",
        "\n",
        "---\n",
        "Multiple inheritance is a feature where a class inherits from more than one parent class.\n",
        "\n",
        "eg:\n",
        "\n",
        "    class Father:\n",
        "    def skills(self):\n",
        "        print(\"Gardening, Programming\")\n",
        "\n",
        "    class Mother:\n",
        "    def skills(self):\n",
        "        print(\"Cooking, Art\")\n",
        "\n",
        "    class Child(Father, Mother):\n",
        "    pass\n",
        "\n",
        "    c = Child()\n",
        "    c.skills()  \n",
        "\n"
      ],
      "metadata": {
        "id": "PGfb-7t9CKVR"
      }
    },
    {
      "cell_type": "markdown",
      "source": [
        "Q19. Explain the purpose of ‘’__str__’ and ‘__repr__’ ‘ methods in Python\n",
        "\n",
        "---\n",
        "1. __repr__ — Official Representation\n",
        "\n",
        "Should return a string that unambiguously represents the object.\n",
        "\n",
        "Ideally, the string can be used to recreate the object (like valid Python code).\n",
        "\n",
        "Used mainly for developers/debugging.\n",
        "\n",
        "Called by repr(obj) and when you inspect the object in an interactive shell.\n",
        "\n",
        "2. __str__ — Informal or User-Friendly Representation\n",
        "\n",
        "Should return a readable, nicely formatted string for end users.\n",
        "\n",
        "Used by print(obj) and str(obj).\n"
      ],
      "metadata": {
        "id": "apzqiwE9CoHZ"
      }
    },
    {
      "cell_type": "markdown",
      "source": [
        "Q20. What is the significance of the ‘super()’ function in Python?\n",
        "\n",
        "---\n",
        "\n",
        "super() returns a temporary object that allows you to call methods from a parent (super) class.\n",
        "\n",
        "It's commonly used to access and extend functionality of the parent class without explicitly naming it.\n",
        "\n",
        "Helps with code reuse and avoids hardcoding the parent class name, which makes code easier to maintain and supports multiple inheritance.\n"
      ],
      "metadata": {
        "id": "Ze3duSJ7C_E7"
      }
    },
    {
      "cell_type": "markdown",
      "source": [
        "Q21.  What is the significance of the __del__ method in Python?\n",
        "\n",
        "---\n",
        "The __del__ method is known as the destructor in Python.\n",
        "\n",
        "It is called when an object is about to be destroyed (i.e., when its reference count reaches zero and it is garbage collected).\n",
        "\n",
        "Used to clean up resources before the object is removed, such as closing files, network connections, or releasing external resources.\n"
      ],
      "metadata": {
        "id": "nvH8Mh8gDPwj"
      }
    },
    {
      "cell_type": "markdown",
      "source": [
        "Q22. What is the difference between @staticmethod and @classmethod in Python?\n",
        "\n",
        "---\n",
        "@staticmethod\n",
        "\n",
        "Defines a method that doesn't receive any implicit first argument (no self or cls).\n",
        "\n",
        "It behaves like a regular function inside the class namespace.\n",
        "\n",
        "Cannot access or modify class or instance state.\n",
        "\n",
        "Called on the class or instance but does not know about the class or instance.\n",
        "\n",
        "@classmethod\n",
        "\n",
        "Defines a method that receives the class itself as the first argument (cls).\n",
        "\n",
        "Can access or modify class state.\n",
        "\n",
        "Often used for factory methods or methods that affect the class as a whole.\n",
        "\n",
        "Can be called on the class or instance.\n"
      ],
      "metadata": {
        "id": "Eocil0k2DfOj"
      }
    },
    {
      "cell_type": "markdown",
      "source": [
        "Q23. How does polymorphism work in Python with inheritance?\n",
        "\n",
        "---\n",
        " polymorphism work in Python with inheritance as:\n",
        "\n",
        "A base class defines a method.\n",
        "\n",
        "Child classes inherit from the base class and override the method to provide their own behavior.\n",
        "\n",
        "You can then call the same method on objects of different child classes — Python will automatically call the correct method based on the object’s actual class.\n",
        "\n",
        "eg:\n",
        "\n",
        "    class Animal:\n",
        "    def speak(self):\n",
        "        return \"Some animal sound\"\n",
        "\n",
        "    class Dog(Animal):\n",
        "    def speak(self):\n",
        "        return \"Bark\"\n",
        "\n",
        "    class Cat(Animal):\n",
        "    def speak(self):\n",
        "        return \"Meow\"\n",
        "\n",
        "    animals = [Dog(), Cat(), Animal()]\n",
        "\n",
        "    for animal in animals:\n",
        "    print(animal.speak())\n",
        "\n"
      ],
      "metadata": {
        "id": "YxOXkcfYD1bh"
      }
    },
    {
      "cell_type": "markdown",
      "source": [
        "Q24. What is method chaining in Python OOP?\n",
        "\n",
        "---\n",
        "Method chaining is a technique in object-oriented programming (OOP) where multiple methods are called on the same object in a single line, one after the other.\n",
        "\n",
        "Each method call returns the object itself (self), allowing the next method to be called immediately.\n",
        "\n",
        "eg:\n",
        "\n",
        "    class Person:\n",
        "    def __init__(self, name):\n",
        "        self.name = name\n",
        "        self.age = None\n",
        "        self.city = None\n",
        "\n",
        "    def set_age(self, age):\n",
        "        self.age = age\n",
        "        return self  # return the object itself\n",
        "\n",
        "    def set_city(self, city):\n",
        "        self.city = city\n",
        "        return self  # return the object itself\n",
        "\n",
        "    def show(self):\n",
        "        print(f\"Name: {self.name}, Age: {self.age}, City: {self.city}\")\n",
        "        return self\n",
        "\n",
        "    Method chaining:\n",
        "    p = Person(\"Alice\").set_age(30).set_city(\"New York\").show()\n",
        "\n"
      ],
      "metadata": {
        "id": "A84ogmirEovT"
      }
    },
    {
      "cell_type": "markdown",
      "source": [
        "Q25. What is the purpose of the __call__ method in Python?\n",
        "\n",
        "---\n",
        "\n",
        "It lets us make objects callable, meaning We can use parentheses after an object like this:\n",
        "\n",
        "obj()\n",
        "\n",
        "This is useful for:\n",
        "\n",
        "Creating function-like objects\n",
        "\n",
        "Implementing custom behavior when an object is \"called\"\n",
        "\n",
        "Building stateful functions, decorators, or function wrappers\n",
        "\n",
        "eg:\n",
        "\n",
        "    class Greeter:\n",
        "    def __init__(self, name):\n",
        "        self.name = name\n",
        "\n",
        "    def __call__(self):\n",
        "        print(f\"Hello, {self.name}!\")\n",
        "\n",
        "    g = Greeter(\"Alice\")\n",
        "    g()  \n"
      ],
      "metadata": {
        "id": "gxNUwvyyE_3c"
      }
    },
    {
      "cell_type": "markdown",
      "source": [
        "#***PRACTICAL QUESTIONS***"
      ],
      "metadata": {
        "id": "6WaHlYrgFw4j"
      }
    },
    {
      "cell_type": "markdown",
      "source": [
        "1. Create a parent class Animal with a method speak() that prints a generic message. Create a child class Dog\n",
        "that overrides the speak() method to print \"Bark!\".\n",
        "\n",
        "---\n",
        "\n"
      ],
      "metadata": {
        "id": "p_YiT7MZF49w"
      }
    },
    {
      "cell_type": "code",
      "source": [
        "# Parent class\n",
        "class Animal:\n",
        "    def speak(self):\n",
        "        print(\"The animal makes a sound.\")\n",
        "\n",
        "# Child class\n",
        "class Dog(Animal):\n",
        "    def speak(self):\n",
        "        print(\"Bark!\")\n",
        "\n",
        "# Create instances and call speak()\n",
        "a = Animal()\n",
        "a.speak()  # Output: The animal makes a sound.\n",
        "\n",
        "d = Dog()\n",
        "d.speak()  # Output: Bark!\n"
      ],
      "metadata": {
        "colab": {
          "base_uri": "https://localhost:8080/"
        },
        "id": "Qh27rBHfGIcm",
        "outputId": "5b316d0d-115e-47f9-ec1b-c408c512727f"
      },
      "execution_count": 1,
      "outputs": [
        {
          "output_type": "stream",
          "name": "stdout",
          "text": [
            "The animal makes a sound.\n",
            "Bark!\n"
          ]
        }
      ]
    },
    {
      "cell_type": "markdown",
      "source": [
        "2. Write a program to create an abstract class Shape with a method area(). Derive classes Circle and Rectangle\n",
        "from it and implement the area() method in both.\n",
        "\n",
        "---\n",
        "\n"
      ],
      "metadata": {
        "id": "aQsRIX0vGW3o"
      }
    },
    {
      "cell_type": "code",
      "source": [
        "from abc import ABC, abstractmethod\n",
        "import math\n",
        "\n",
        "# Abstract base class\n",
        "class Shape(ABC):\n",
        "    @abstractmethod\n",
        "    def area(self):\n",
        "        pass  # Abstract method to be implemented by subclasses\n",
        "\n",
        "# Circle class\n",
        "class Circle(Shape):\n",
        "    def __init__(self, radius):\n",
        "        self.radius = radius\n",
        "\n",
        "    def area(self):\n",
        "        return math.pi * self.radius ** 2\n",
        "\n",
        "# Rectangle class\n",
        "class Rectangle(Shape):\n",
        "    def __init__(self, width, height):\n",
        "        self.width = width\n",
        "        self.height = height\n",
        "\n",
        "    def area(self):\n",
        "        return self.width * self.height\n",
        "\n",
        "# Create objects and display area\n",
        "c = Circle(5)\n",
        "r = Rectangle(4, 6)\n",
        "\n",
        "print(\"Circle area:\", c.area())        # Output: Circle area: 78.54...\n",
        "print(\"Rectangle area:\", r.area())    # Output: Rectangle area: 24\n"
      ],
      "metadata": {
        "colab": {
          "base_uri": "https://localhost:8080/"
        },
        "id": "JConJGYdGMa_",
        "outputId": "7571cebe-b3a8-4f89-f9b2-a954ad7389ee"
      },
      "execution_count": 2,
      "outputs": [
        {
          "output_type": "stream",
          "name": "stdout",
          "text": [
            "Circle area: 78.53981633974483\n",
            "Rectangle area: 24\n"
          ]
        }
      ]
    },
    {
      "cell_type": "markdown",
      "source": [
        "3. Implement a multi-level inheritance scenario where a class Vehicle has an attribute type. Derive a class Car\n",
        "and further derive a class ElectricCar that adds a battery attribute.\n",
        "\n",
        "---\n",
        "\n"
      ],
      "metadata": {
        "id": "rfMTXnkwGiXY"
      }
    },
    {
      "cell_type": "code",
      "source": [
        "# Base class\n",
        "class Vehicle:\n",
        "    def __init__(self, vehicle_type):\n",
        "        self.type = vehicle_type\n",
        "\n",
        "    def show_type(self):\n",
        "        print(f\"Vehicle type: {self.type}\")\n",
        "\n",
        "# Derived class\n",
        "class Car(Vehicle):\n",
        "    def __init__(self, vehicle_type, brand):\n",
        "        super().__init__(vehicle_type)  # Initialize Vehicle\n",
        "        self.brand = brand\n",
        "\n",
        "    def show_brand(self):\n",
        "        print(f\"Car brand: {self.brand}\")\n",
        "\n",
        "# Further derived class\n",
        "class ElectricCar(Car):\n",
        "    def __init__(self, vehicle_type, brand, battery_capacity):\n",
        "        super().__init__(vehicle_type, brand)  # Initialize Car and Vehicle\n",
        "        self.battery = battery_capacity\n",
        "\n",
        "    def show_battery(self):\n",
        "        print(f\"Battery capacity: {self.battery} kWh\")\n",
        "\n",
        "# Usage\n",
        "ecar = ElectricCar(\"Car\", \"Tesla\", 100)\n",
        "ecar.show_type()      # Vehicle type: Car\n",
        "ecar.show_brand()     # Car brand: Tesla\n",
        "ecar.show_battery()   # Battery capacity: 100 kWh\n"
      ],
      "metadata": {
        "colab": {
          "base_uri": "https://localhost:8080/"
        },
        "id": "K949VeR0Ggrm",
        "outputId": "e971fb75-094c-4a58-f637-ec1ee8b93817"
      },
      "execution_count": 3,
      "outputs": [
        {
          "output_type": "stream",
          "name": "stdout",
          "text": [
            "Vehicle type: Car\n",
            "Car brand: Tesla\n",
            "Battery capacity: 100 kWh\n"
          ]
        }
      ]
    },
    {
      "cell_type": "markdown",
      "source": [
        "4. Demonstrate polymorphism by creating a base class Bird with a method fly(). Create two derived classes\n",
        "Sparrow and Penguin that override the fly() method.\n",
        "\n",
        "\n",
        "---\n",
        "\n"
      ],
      "metadata": {
        "id": "VZgHyPmqGsfN"
      }
    },
    {
      "cell_type": "code",
      "source": [
        "# Base class\n",
        "class Bird:\n",
        "    def fly(self):\n",
        "        print(\"Some birds can fly, some cannot.\")\n",
        "\n",
        "# Derived class Sparrow\n",
        "class Sparrow(Bird):\n",
        "    def fly(self):\n",
        "        print(\"Sparrow can fly high!\")\n",
        "\n",
        "# Derived class Penguin\n",
        "class Penguin(Bird):\n",
        "    def fly(self):\n",
        "        print(\"Penguins cannot fly, but they swim very well.\")\n",
        "\n",
        "# Polymorphic behavior:\n",
        "birds = [Sparrow(), Penguin(), Bird()]\n",
        "\n",
        "for bird in birds:\n",
        "    bird.fly()\n"
      ],
      "metadata": {
        "colab": {
          "base_uri": "https://localhost:8080/"
        },
        "id": "ESfi2Q9dGq68",
        "outputId": "d8cfd18c-0884-4003-9752-b97845ce9bd1"
      },
      "execution_count": 4,
      "outputs": [
        {
          "output_type": "stream",
          "name": "stdout",
          "text": [
            "Sparrow can fly high!\n",
            "Penguins cannot fly, but they swim very well.\n",
            "Some birds can fly, some cannot.\n"
          ]
        }
      ]
    },
    {
      "cell_type": "markdown",
      "source": [
        "5. Write a program to demonstrate encapsulation by creating a class BankAccount with private attributes\n",
        "balance and methods to deposit, withdraw, and check balance\n",
        "\n",
        "---\n",
        "\n"
      ],
      "metadata": {
        "id": "PX8V5HUMG4sQ"
      }
    },
    {
      "cell_type": "code",
      "source": [
        "class BankAccount:\n",
        "    def __init__(self, initial_balance=0):\n",
        "        self.__balance = initial_balance  # Private attribute\n",
        "\n",
        "    def deposit(self, amount):\n",
        "        if amount > 0:\n",
        "            self.__balance += amount\n",
        "            print(f\"Deposited: ${amount}\")\n",
        "        else:\n",
        "            print(\"Deposit amount must be positive.\")\n",
        "\n",
        "    def withdraw(self, amount):\n",
        "        if amount <= 0:\n",
        "            print(\"Withdrawal amount must be positive.\")\n",
        "        elif amount > self.__balance:\n",
        "            print(\"Insufficient balance.\")\n",
        "        else:\n",
        "            self.__balance -= amount\n",
        "            print(f\"Withdrew: ${amount}\")\n",
        "\n",
        "    def check_balance(self):\n",
        "        print(f\"Current balance: ${self.__balance}\")\n",
        "\n",
        "# Usage example\n",
        "account = BankAccount(100)\n",
        "account.deposit(50)      # Deposited: $50\n",
        "account.withdraw(30)     # Withdrew: $30\n",
        "account.check_balance()  # Current balance: $120\n",
        "\n",
        "# Trying to access private attribute directly (will raise an error)\n",
        "# print(account.__balance)  # AttributeError: 'BankAccount' object has no attribute '__balance'\n"
      ],
      "metadata": {
        "colab": {
          "base_uri": "https://localhost:8080/"
        },
        "id": "tX2ArcYHG3Zy",
        "outputId": "66f599ce-22cd-4e4e-d5c6-09a226adb509"
      },
      "execution_count": 5,
      "outputs": [
        {
          "output_type": "stream",
          "name": "stdout",
          "text": [
            "Deposited: $50\n",
            "Withdrew: $30\n",
            "Current balance: $120\n"
          ]
        }
      ]
    },
    {
      "cell_type": "markdown",
      "source": [
        "6. Demonstrate runtime polymorphism using a method play() in a base class Instrument. Derive classes Guitar\n",
        "and Piano that implement their own version of play().\n",
        "\n",
        "---\n",
        "\n"
      ],
      "metadata": {
        "id": "l5IHYgTWHJEF"
      }
    },
    {
      "cell_type": "code",
      "source": [
        "# Base class\n",
        "class Instrument:\n",
        "    def play(self):\n",
        "        print(\"Playing instrument...\")\n",
        "\n",
        "# Derived class Guitar\n",
        "class Guitar(Instrument):\n",
        "    def play(self):\n",
        "        print(\"Strumming the guitar!\")\n",
        "\n",
        "# Derived class Piano\n",
        "class Piano(Instrument):\n",
        "    def play(self):\n",
        "        print(\"Playing the piano keys!\")\n",
        "\n",
        "# Demonstrate runtime polymorphism\n",
        "instruments = [Guitar(), Piano(), Instrument()]\n",
        "\n",
        "for instrument in instruments:\n",
        "    instrument.play()\n"
      ],
      "metadata": {
        "colab": {
          "base_uri": "https://localhost:8080/"
        },
        "id": "a9tL3I3EHDhV",
        "outputId": "64c2f262-6870-49d6-f96e-ba28268f23a3"
      },
      "execution_count": 6,
      "outputs": [
        {
          "output_type": "stream",
          "name": "stdout",
          "text": [
            "Strumming the guitar!\n",
            "Playing the piano keys!\n",
            "Playing instrument...\n"
          ]
        }
      ]
    },
    {
      "cell_type": "markdown",
      "source": [
        "7. Create a class MathOperations with a class method add_numbers() to add two numbers and a static\n",
        "method subtract_numbers() to subtract two numbers.\n",
        "\n",
        "---\n",
        "\n"
      ],
      "metadata": {
        "id": "esWp-s0vHV26"
      }
    },
    {
      "cell_type": "code",
      "source": [
        "class MathOperations:\n",
        "    @classmethod\n",
        "    def add_numbers(cls, a, b):\n",
        "        return a + b\n",
        "\n",
        "    @staticmethod\n",
        "    def subtract_numbers(a, b):\n",
        "        return a - b\n",
        "\n",
        "# Usage examples:\n",
        "print(MathOperations.add_numbers(10, 5))      # Output: 15\n",
        "print(MathOperations.subtract_numbers(10, 5)) # Output: 5\n",
        "\n",
        "# You can also call class method on an instance\n",
        "obj = MathOperations()\n",
        "print(obj.add_numbers(7, 3))                   # Output: 10\n",
        "print(obj.subtract_numbers(7, 3))              # Outpu_\n"
      ],
      "metadata": {
        "colab": {
          "base_uri": "https://localhost:8080/"
        },
        "id": "obR_S5FaHRRY",
        "outputId": "68d7bfc1-c301-48df-a23b-0f438e6612ca"
      },
      "execution_count": 7,
      "outputs": [
        {
          "output_type": "stream",
          "name": "stdout",
          "text": [
            "15\n",
            "5\n",
            "10\n",
            "4\n"
          ]
        }
      ]
    },
    {
      "cell_type": "markdown",
      "source": [
        "8. Implement a class Person with a class method to count the total number of persons created.\n",
        "\n",
        "---\n",
        "\n"
      ],
      "metadata": {
        "id": "hr8sV4AjHggF"
      }
    },
    {
      "cell_type": "code",
      "source": [
        "class Person:\n",
        "    count = 0  # Class variable to keep track of number of persons\n",
        "\n",
        "    def __init__(self, name):\n",
        "        self.name = name\n",
        "        Person.count += 1  # Increment count whenever a new Person is created\n",
        "\n",
        "    @classmethod\n",
        "    def total_persons(cls):\n",
        "        return cls.count\n",
        "\n",
        "# Creating instances\n",
        "p1 = Person(\"Alice\")\n",
        "p2 = Person(\"Bob\")\n",
        "p3 = Person(\"Charlie\")\n",
        "\n",
        "# Using class method to get total persons\n",
        "print(\"Total persons created:\", Person.total_persons())  # Output: 3\n"
      ],
      "metadata": {
        "colab": {
          "base_uri": "https://localhost:8080/"
        },
        "id": "JSaTcH3tHepS",
        "outputId": "96d3c008-abc9-4a51-d1bc-200074688ada"
      },
      "execution_count": 8,
      "outputs": [
        {
          "output_type": "stream",
          "name": "stdout",
          "text": [
            "Total persons created: 3\n"
          ]
        }
      ]
    },
    {
      "cell_type": "markdown",
      "source": [
        "9. Write a class Fraction with attributes numerator and denominator. Override the str method to display the\n",
        "fraction as \"numerator/denominator\".\n",
        "\n",
        "---\n",
        "\n"
      ],
      "metadata": {
        "id": "XtjgnFYYHzuP"
      }
    },
    {
      "cell_type": "code",
      "source": [
        "class Fraction:\n",
        "    def __init__(self, numerator, denominator):\n",
        "        self.numerator = numerator\n",
        "        self.denominator = denominator\n",
        "\n",
        "    def __str__(self):\n",
        "        return f\"{self.numerator}/{self.denominator}\"\n",
        "\n",
        "# Usage example\n",
        "frac = Fraction(3, 4)\n",
        "print(frac)  # Output: 3/4\n"
      ],
      "metadata": {
        "colab": {
          "base_uri": "https://localhost:8080/"
        },
        "id": "U0l6jezpHp7K",
        "outputId": "6399e28a-1edd-48e5-e893-a4d362d260d8"
      },
      "execution_count": 9,
      "outputs": [
        {
          "output_type": "stream",
          "name": "stdout",
          "text": [
            "3/4\n"
          ]
        }
      ]
    },
    {
      "cell_type": "markdown",
      "source": [
        "10. Demonstrate operator overloading by creating a class Vector and overriding the add method to add two\n",
        "vectors.\n",
        "\n",
        "---\n",
        "\n"
      ],
      "metadata": {
        "id": "vYAktp8wH7up"
      }
    },
    {
      "cell_type": "code",
      "source": [
        "class Vector:\n",
        "    def __init__(self, x, y):\n",
        "        self.x = x\n",
        "        self.y = y\n",
        "\n",
        "    def __add__(self, other):\n",
        "        if isinstance(other, Vector):\n",
        "            return Vector(self.x + other.x, self.y + other.y)\n",
        "        else:\n",
        "            raise TypeError(\"Operands must be Vector instances\")\n",
        "\n",
        "    def __str__(self):\n",
        "        return f\"Vector({self.x}, {self.y})\"\n",
        "\n",
        "# Usage example\n",
        "v1 = Vector(2, 3)\n",
        "v2 = Vector(4, 5)\n",
        "v3 = v1 + v2  # Uses the overloaded __add__ method\n",
        "print(v3)     # Output: Vector(6, 8)\n"
      ],
      "metadata": {
        "colab": {
          "base_uri": "https://localhost:8080/"
        },
        "id": "4cwI7qoLH64Q",
        "outputId": "8c7fdb37-bbf7-4e9a-d55d-11265a3f55df"
      },
      "execution_count": 10,
      "outputs": [
        {
          "output_type": "stream",
          "name": "stdout",
          "text": [
            "Vector(6, 8)\n"
          ]
        }
      ]
    },
    {
      "cell_type": "markdown",
      "source": [
        "11. Create a class Person with attributes name and age. Add a method greet() that prints \"Hello, my name is\n",
        "{name} and I am {age} years old.\"\n",
        "\n",
        "---\n",
        "\n"
      ],
      "metadata": {
        "id": "QZekNohzIGdP"
      }
    },
    {
      "cell_type": "code",
      "source": [
        "class Person:\n",
        "    def __init__(self, name, age):\n",
        "        self.name = name\n",
        "        self.age = age\n",
        "\n",
        "    def greet(self):\n",
        "        print(f\"Hello, my name is {self.name} and I am {self.age} years old.\")\n",
        "\n",
        "# Usage example\n",
        "p = Person(\"Alice\", 25)\n",
        "p.greet()  # Output: Hello, my name is Alice and I am 25 years old.\n"
      ],
      "metadata": {
        "colab": {
          "base_uri": "https://localhost:8080/"
        },
        "id": "2OfpSX3_IFZj",
        "outputId": "98733fd6-a7cc-493e-b06f-1ad30b1004d8"
      },
      "execution_count": 11,
      "outputs": [
        {
          "output_type": "stream",
          "name": "stdout",
          "text": [
            "Hello, my name is Alice and I am 25 years old.\n"
          ]
        }
      ]
    },
    {
      "cell_type": "markdown",
      "source": [
        "12. Implement a class Student with attributes name and grades. Create a method average_grade() to compute\n",
        "the average of the grades.\n",
        "\n",
        "---\n",
        "\n"
      ],
      "metadata": {
        "id": "1epc1deWITs6"
      }
    },
    {
      "cell_type": "code",
      "source": [
        "class Student:\n",
        "    def __init__(self, name, grades):\n",
        "        self.name = name\n",
        "        self.grades = grades  # Expecting a list of numbers\n",
        "\n",
        "    def average_grade(self):\n",
        "        if not self.grades:\n",
        "            return 0  # Avoid division by zero if grades list is empty\n",
        "        return sum(self.grades) / len(self.grades)\n",
        "\n",
        "# Usage example\n",
        "student = Student(\"Bob\", [85, 90, 78, 92])\n",
        "print(f\"{student.name}'s average grade is {student.average_grade():.2f}\")\n"
      ],
      "metadata": {
        "colab": {
          "base_uri": "https://localhost:8080/"
        },
        "id": "3lxkCL9aIOPw",
        "outputId": "0fde8fea-cb89-4d83-e150-7af01c5ce5cc"
      },
      "execution_count": 12,
      "outputs": [
        {
          "output_type": "stream",
          "name": "stdout",
          "text": [
            "Bob's average grade is 86.25\n"
          ]
        }
      ]
    },
    {
      "cell_type": "markdown",
      "source": [
        "13. Create a class Rectangle with methods set_dimensions() to set the dimensions and area() to calculate the\n",
        "area.\n",
        "\n",
        "---\n",
        "\n"
      ],
      "metadata": {
        "id": "c7X_k-nnIX2o"
      }
    },
    {
      "cell_type": "code",
      "source": [
        "class Rectangle:\n",
        "    def __init__(self):\n",
        "        self.width = 0\n",
        "        self.height = 0\n",
        "\n",
        "    def set_dimensions(self, width, height):\n",
        "        self.width = width\n",
        "        self.height = height\n",
        "\n",
        "    def area(self):\n",
        "        return self.width * self.height\n",
        "\n",
        "# Usage example\n",
        "rect = Rectangle()\n",
        "rect.set_dimensions(5, 10)\n",
        "print(f\"Area of the rectangle: {rect.area()}\")  # Output: 50\n"
      ],
      "metadata": {
        "colab": {
          "base_uri": "https://localhost:8080/"
        },
        "id": "gpCXdAXUIW9b",
        "outputId": "3e98212b-3d53-4c4f-94eb-f324db03c340"
      },
      "execution_count": 13,
      "outputs": [
        {
          "output_type": "stream",
          "name": "stdout",
          "text": [
            "Area of the rectangle: 50\n"
          ]
        }
      ]
    },
    {
      "cell_type": "markdown",
      "source": [
        "14. Create a class Employee with a method calculate_salary() that computes the salary based on hours worked\n",
        "and hourly rate. Create a derived class Manager that adds a bonus to the salary.\n",
        "\n",
        "---\n",
        "\n"
      ],
      "metadata": {
        "id": "0Uj4R6VYIf_v"
      }
    },
    {
      "cell_type": "code",
      "source": [
        "class Employee:\n",
        "    def __init__(self, name, hours_worked, hourly_rate):\n",
        "        self.name = name\n",
        "        self.hours_worked = hours_worked\n",
        "        self.hourly_rate = hourly_rate\n",
        "\n",
        "    def calculate_salary(self):\n",
        "        return self.hours_worked * self.hourly_rate\n",
        "\n",
        "class Manager(Employee):\n",
        "    def __init__(self, name, hours_worked, hourly_rate, bonus):\n",
        "        super().__init__(name, hours_worked, hourly_rate)\n",
        "        self.bonus = bonus\n",
        "\n",
        "    def calculate_salary(self):\n",
        "        base_salary = super().calculate_salary()\n",
        "        return base_salary + self.bonus\n",
        "\n",
        "# Usage example\n",
        "emp = Employee(\"John\", 40, 20)\n",
        "mgr = Manager(\"Alice\", 40, 20, 500)\n",
        "\n",
        "print(f\"{emp.name}'s Salary: ${emp.calculate_salary()}\")   # Output: John's Salary: $800\n",
        "print(f\"{mgr.name}'s Salary: ${mgr.calculate_salary()}\")  # Output: Alice's Salary: $1300\n"
      ],
      "metadata": {
        "colab": {
          "base_uri": "https://localhost:8080/"
        },
        "id": "cVvqz2cUIe-p",
        "outputId": "2a14efd1-9ac8-42e3-b1bb-045649ca5166"
      },
      "execution_count": 15,
      "outputs": [
        {
          "output_type": "stream",
          "name": "stdout",
          "text": [
            "John's Salary: $800\n",
            "Alice's Salary: $1300\n"
          ]
        }
      ]
    },
    {
      "cell_type": "markdown",
      "source": [
        "15. Create a class Product with attributes name, price, and quantity. Implement a method total_price() that\n",
        "calculates the total price of the product.\n",
        "\n",
        "---\n",
        "\n"
      ],
      "metadata": {
        "id": "JPw7q-d3ItU0"
      }
    },
    {
      "cell_type": "code",
      "source": [
        "class Product:\n",
        "    def __init__(self, name, price, quantity):\n",
        "        self.name = name\n",
        "        self.price = price\n",
        "        self.quantity = quantity\n",
        "\n",
        "    def total_price(self):\n",
        "        return self.price * self.quantity\n",
        "\n",
        "# Usage example\n",
        "product = Product(\"Laptop\", 1200, 3)\n",
        "print(f\"Total price for {product.quantity} {product.name}s: ${product.total_price()}\")\n"
      ],
      "metadata": {
        "colab": {
          "base_uri": "https://localhost:8080/"
        },
        "id": "K5V9YWFBIoCK",
        "outputId": "08eea436-21ac-4e8d-9270-4a68b06f5d58"
      },
      "execution_count": 16,
      "outputs": [
        {
          "output_type": "stream",
          "name": "stdout",
          "text": [
            "Total price for 3 Laptops: $3600\n"
          ]
        }
      ]
    },
    {
      "cell_type": "markdown",
      "source": [
        "16. Create a class Animal with an abstract method sound(). Create two derived classes Cow and Sheep that\n",
        "implement the sound() method.\n",
        "\n",
        "---\n",
        "\n"
      ],
      "metadata": {
        "id": "zTKvKgcpI3Up"
      }
    },
    {
      "cell_type": "code",
      "source": [
        "from abc import ABC, abstractmethod\n",
        "\n",
        "class Animal(ABC):\n",
        "    @abstractmethod\n",
        "    def sound(self):\n",
        "        pass\n",
        "\n",
        "class Cow(Animal):\n",
        "    def sound(self):\n",
        "        print(\"Moo\")\n",
        "\n",
        "class Sheep(Animal):\n",
        "    def sound(self):\n",
        "        print(\"Baa\")\n",
        "\n",
        "# Usage example\n",
        "animals = [Cow(), Sheep()]\n",
        "\n",
        "for animal in animals:\n",
        "    animal.sound()\n"
      ],
      "metadata": {
        "colab": {
          "base_uri": "https://localhost:8080/"
        },
        "id": "LsbNRifwI1sl",
        "outputId": "8bf39d54-d63d-4e07-a0f6-d0d811f030c1"
      },
      "execution_count": 17,
      "outputs": [
        {
          "output_type": "stream",
          "name": "stdout",
          "text": [
            "Moo\n",
            "Baa\n"
          ]
        }
      ]
    },
    {
      "cell_type": "markdown",
      "source": [
        "17. Create a class Book with attributes title, author, and year_published. Add a method get_book_info() that\n",
        "returns a formatted string with the book's details.\n",
        "\n",
        "---\n",
        "\n"
      ],
      "metadata": {
        "id": "UoBqppZpJA9G"
      }
    },
    {
      "cell_type": "code",
      "source": [
        "class Book:\n",
        "    def __init__(self, title, author, year_published):\n",
        "        self.title = title\n",
        "        self.author = author\n",
        "        self.year_published = year_published\n",
        "\n",
        "    def get_book_info(self):\n",
        "        return f\"'{self.title}' by {self.author}, published in {self.year_published}\"\n",
        "\n",
        "# Usage example\n",
        "book = Book(\"1984\", \"George Orwell\", 1949)\n",
        "print(book.get_book_info())\n"
      ],
      "metadata": {
        "colab": {
          "base_uri": "https://localhost:8080/"
        },
        "id": "8ddh9C1sI_0_",
        "outputId": "21f174a6-5775-487a-9b1d-3a1d3c3071ce"
      },
      "execution_count": 18,
      "outputs": [
        {
          "output_type": "stream",
          "name": "stdout",
          "text": [
            "'1984' by George Orwell, published in 1949\n"
          ]
        }
      ]
    },
    {
      "cell_type": "markdown",
      "source": [
        "18. Create a class House with attributes address and price. Create a derived class Mansion that adds an\n",
        "attribute number_of_rooms.\n",
        "\n",
        "---\n",
        "\n"
      ],
      "metadata": {
        "id": "4shcwLlzJLA-"
      }
    },
    {
      "cell_type": "code",
      "source": [
        "class House:\n",
        "    def __init__(self, address, price):\n",
        "        self.address = address\n",
        "        self.price = price\n",
        "\n",
        "class Mansion(House):\n",
        "    def __init__(self, address, price, number_of_rooms):\n",
        "        super().__init__(address, price)\n",
        "        self.number_of_rooms = number_of_rooms\n",
        "\n",
        "    def show_details(self):\n",
        "        print(f\"Address: {self.address}\")\n",
        "        print(f\"Price: ${self.price}\")\n",
        "        print(f\"Number of rooms: {self.number_of_rooms}\")\n",
        "\n",
        "# Usage example\n",
        "mansion = Mansion(\"123 Luxury Ave\", 2_500_000, 10)\n",
        "mansion.show_details()\n"
      ],
      "metadata": {
        "colab": {
          "base_uri": "https://localhost:8080/"
        },
        "id": "EY5Ikh_YJJkC",
        "outputId": "e0d9a687-c330-4c39-e0a6-970b90b37135"
      },
      "execution_count": 19,
      "outputs": [
        {
          "output_type": "stream",
          "name": "stdout",
          "text": [
            "Address: 123 Luxury Ave\n",
            "Price: $2500000\n",
            "Number of rooms: 10\n"
          ]
        }
      ]
    },
    {
      "cell_type": "code",
      "source": [],
      "metadata": {
        "id": "ILjXgM7JJRuj"
      },
      "execution_count": null,
      "outputs": []
    }
  ]
}