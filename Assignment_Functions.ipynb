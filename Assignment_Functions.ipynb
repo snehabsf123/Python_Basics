{
  "nbformat": 4,
  "nbformat_minor": 0,
  "metadata": {
    "colab": {
      "provenance": []
    },
    "kernelspec": {
      "name": "python3",
      "display_name": "Python 3"
    },
    "language_info": {
      "name": "python"
    }
  },
  "cells": [
    {
      "cell_type": "code",
      "execution_count": null,
      "metadata": {
        "id": "gjImpTb7iAZp"
      },
      "outputs": [],
      "source": []
    },
    {
      "cell_type": "markdown",
      "source": [
        "1. What is the difference between a function and a method in Python?\n",
        "\n",
        "\n",
        "---\n",
        "A function is a block of reusable code that performs a specific task.\n",
        "eg:\n",
        "\n",
        "      def greet(name):\n",
        "\n",
        "      return f\"Hello, {name}!\"\n",
        "\n",
        "      print(greet(\"Sneha\"))  \n",
        "\n",
        "A method is a function that is associated with an object defined inside a class.\n",
        "eg:\n",
        "\n",
        "    class Greeter:\n",
        "\n",
        "    def greet(self, name):\n",
        "\n",
        "        return f\"Hello, {name}!\"\n",
        "\n",
        "       g = Greeter()\n",
        "\n",
        "     print(g.greet(\"Sneha\"))  \n"
      ],
      "metadata": {
        "id": "6-fhV0rviFYE"
      }
    },
    {
      "cell_type": "markdown",
      "source": [
        "2. Explain the concept of function arguments and parameters in Python.\n",
        "\n",
        "\n",
        "---\n",
        "\n",
        "Parameters are the placeholders listed in a function.\n",
        "eg:\n",
        "\n",
        "    def greet(name):  # 'name' is a parameter\n",
        "\n",
        "    print(f\"Hello, {name}!\")\n",
        "\n",
        "Arguments are the actual values We pass to a function when we call it\n",
        "eg:\n",
        "\n",
        "    greet(\"Sneha\")  # \"Sneha\" is an argument\n",
        "\n",
        "\n"
      ],
      "metadata": {
        "id": "dpNiCNh_jRDM"
      }
    },
    {
      "cell_type": "markdown",
      "source": [
        "3. What are the different ways to define and call a function in Python?\n",
        "\n",
        "\n",
        "---\n",
        "In Python, you can define and call functions in several ways\n",
        "*   Defining a Function\n",
        "\n",
        "Standard Named Function\n",
        "\n",
        "    def greet(name):\n",
        "\n",
        "    return f\"Hello, {name}!\"\n",
        "\n",
        "Function with Default Arguments\n",
        "\n",
        "    def greet(name=\"Guest\"):\n",
        "\n",
        "    return f\"Hello, {name}!\"\n",
        "\n",
        "Function with Variable Positional Arguments (*args)\n",
        "\n",
        "    def add(*numbers):\n",
        "\n",
        "    return sum(numbers)\n",
        "\n",
        "Function with Variable Keyword Arguments (**kwargs)\n",
        "\n",
        "    def show_info(**kwargs):\n",
        "\n",
        "    for key, value in kwargs.items():\n",
        "\n",
        "    print(f\"{key}: {value}\")\n",
        "\n",
        "Lambda Function (Anonymous)\n",
        "\n",
        "    square = lambda x: x ** 2\n",
        "\n",
        "    print(square(5))  # Output: 25\n",
        "\n",
        "\n",
        "*   Calling a Function\n",
        "\n",
        "Positional Arguments\n",
        "\n",
        "    def greet(name, age):\n",
        "\n",
        "    return f\"{name} is {age} years old.\"\n",
        "\n",
        "    greet(\"Sneha\", 30)\n",
        "\n",
        "Keyword Arguments\n",
        "\n",
        "    greet(name=\"Sneha\", age=30)\n",
        "\n",
        "Mixing Positional and Keyword (Positional First)\n",
        "\n",
        "    greet(\"Sneha\", age=30)\n",
        "\n",
        "Using *args\n",
        "\n",
        "    def add(*numbers):\n",
        "\n",
        "    return sum(numbers)\n",
        "\n",
        "    add(1, 2, 3, 4)  # Output: 10\n",
        "\n",
        "Using **kwargs\n",
        "\n",
        "    def display(**info):\n",
        "\n",
        "    for key, value in info.items():\n",
        "\n",
        "    print(f\"{key}: {value}\")\n",
        "\n",
        "    display(name=\"Sneha\", age=25)\n",
        "\n",
        "Calling with Argument Unpacking\n",
        "\n",
        "    args = (2, 3)\n",
        "\n",
        "    print(pow(*args))  \n",
        "\n",
        "    kwargs = {\"name\": \"Alice\", \"age\": 30}\n",
        "\n",
        "    greet(**kwargs)  \n",
        "\n",
        "\n",
        "\n"
      ],
      "metadata": {
        "id": "33OR9mokkOEx"
      }
    },
    {
      "cell_type": "markdown",
      "source": [
        "4. What is the purpose of the `return` statement in a Python function?\n",
        "\n",
        "\n",
        "---\n",
        "The return statement in a Python function is used to:\n",
        "*   Send a Result Back to the Caller\n",
        "eg:\n",
        "\n",
        "    def add(a, b):\n",
        "\n",
        "    return a + b\n",
        "\n",
        "    result = add(2, 3)\n",
        "\n",
        "    print(result)  # Output: 5\n",
        "\n",
        "*   Exit the Function Early\n",
        "eg:\n",
        "\n",
        "    def check_even(num):\n",
        "\n",
        "    if num % 2 == 0:\n",
        "\n",
        "    return True\n",
        "\n",
        "    return False\n",
        "\n",
        "*   Return Multiple Values   \n",
        "eg:\n",
        "\n",
        "    def get_stats(numbers):\n",
        "\n",
        "    return min(numbers), max(numbers), sum(numbers)\n",
        "\n",
        "    low, high, total = get_stats([2, 5, 8])\n",
        "\n",
        "    print(low, high, total)  # Output: 2 8 15\n",
        "\n",
        "*  Return Nothing\n",
        "eg:\n",
        "\n",
        "    def say_hello():\n",
        "\n",
        "    print(\"Hello!\")\n",
        "\n",
        "    result = say_hello()\n",
        "\n",
        "    print(result)  # Output: Hello! \\n None\n",
        "\n",
        "\n",
        "\n",
        "\n",
        "\n",
        "\n",
        "\n",
        "\n",
        "\n",
        "\n"
      ],
      "metadata": {
        "id": "wyHEOocimLt_"
      }
    },
    {
      "cell_type": "markdown",
      "source": [
        "5. What are iterators in Python and how do they differ from iterables?\n",
        "\n",
        "\n",
        "---\n",
        "An iterator is an object that keeps state and produces the next value when we call next() on it.\n",
        "eg:\n",
        "\n",
        "    my_list = [1, 2, 3]\n",
        "\n",
        "    iterator = iter(my_list)  # Get iterator from iterable\n",
        "\n",
        "    print(next(iterator))  # 1\n",
        "\n",
        "    print(next(iterator))  # 2\n",
        "\n",
        "    print(next(iterator))  # 3 # next(iterator) would now raise StopIteration\n",
        "\n",
        "An iterable is any object that can be looped over. It implements the __iter__() method, which returns an iterator.\n",
        "eg:\n",
        "\n",
        "    my_list = [1, 2, 3]  # This is an iterable\n",
        "\n",
        "    for item in my_list:\n",
        "\n",
        "    print(item)\n",
        "\n"
      ],
      "metadata": {
        "id": "3KoXU2S-nZmN"
      }
    },
    {
      "cell_type": "markdown",
      "source": [
        "6. Explain the concept of generators in Python and how they are defined.\n",
        "\n",
        "\n",
        "---\n",
        "A generator is a special type of iterator in Python that generates values on the fly, rather than storing them in memory all at once.\n",
        "\n",
        "Generators use the yield keyword instead of return. When the generator function is called, it doesn’t run immediately it returns a generator object, which can be iterated over using next() or a for loop.\n",
        "eg:\n",
        "\n",
        "Using a Generator Function\n",
        "\n",
        "    def count_up_to(n):\n",
        "\n",
        "    i = 1\n",
        "\n",
        "    while i <= n:\n",
        "\n",
        "        yield i\n",
        "\n",
        "        i += 1\n",
        "\n",
        "Using a Generator Expression\n",
        "\n",
        "    squares = (x * x for x in range(5))  \n",
        "\n",
        "    for sq in squares:\n",
        "\n",
        "    print(sq)\n",
        "\n"
      ],
      "metadata": {
        "id": "mbhQq-MioUkU"
      }
    },
    {
      "cell_type": "markdown",
      "source": [
        "7. What are the advantages of using generators over regular functions?\n",
        "\n",
        "\n",
        "---\n",
        "Generators don't store all values in memory at once. They yield items one at a time, which is ideal for processing large datasets or streams.\n",
        "eg:\n",
        "\n",
        "    def big_range():  # Generator\n",
        "\n",
        "    for i in range(1_000_000):\n",
        "\n",
        "        yield i\n",
        "\n",
        "Generators produce values only when needed, which can speed up execution and reduce startup time\n",
        "eg:\n",
        "\n",
        "    def countdown(n):\n",
        "\n",
        "    while n > 0:\n",
        "\n",
        "        yield n\n",
        "\n",
        "        n -= 1\n",
        "\n",
        " Generators are great for infinite or unbounded sequences\n",
        " eg:\n",
        "\n",
        "    def infinite_counter():\n",
        "\n",
        "    n = 0\n",
        "\n",
        "    while True:\n",
        "\n",
        "        yield n\n",
        "        \n",
        "        n += 1\n",
        "       \n"
      ],
      "metadata": {
        "id": "hi0rGYADpO6W"
      }
    },
    {
      "cell_type": "markdown",
      "source": [
        "8. What is a lambda function in Python and when is it typically used?\n",
        "\n",
        "\n",
        "---\n",
        "A lambda function is a small, anonymous function defined using the lambda keyword, rather than def. It's meant for short, simple operations that are used once or temporarily.\n",
        "eg:\n",
        "\n",
        "    square = lambda x: x * x\n",
        "\n",
        "    print(square(5))  # Output: 25\n",
        "\n",
        "Used with map()\n",
        "eg:\n",
        "\n",
        "    nums = [1, 2, 3, 4]\n",
        "\n",
        "    squares = list(map(lambda x: x**2, nums))\n",
        "\n",
        "    print(squares)  # [1, 4, 9, 16]\n",
        "  \n",
        "Used with filter()\n",
        "eg:\n",
        "\n",
        "    nums = [1, 2, 3, 4]\n",
        "\n",
        "    squares = list(map(lambda x: x**2, nums))\n",
        "\n",
        "    print(squares)  # [1, 4, 9, 16]\n",
        "\n",
        "\n",
        "Used with sorted() and key\n",
        "eg:\n",
        "\n",
        "    names = [\"Sneha\", \"Gaurav\", \"Saurav\"]\n",
        "\n",
        "    sorted_names = sorted(names, key=lambda name: len(name))\n",
        "\n",
        "    print(sorted_names)  # ['Sneha', 'Gaurav', 'Saurav']\n",
        "\n",
        "\n",
        "\n",
        "\n",
        "\n"
      ],
      "metadata": {
        "id": "q-L_AImKqEz_"
      }
    },
    {
      "cell_type": "markdown",
      "source": [
        "9. Explain the purpose and usage of the `map()` function in Python.\n",
        "\n",
        "\n",
        "---\n",
        "The map() function is a built-in Python function used to apply a function to every item in an iterable and return a map object.\n",
        "\n",
        "It is used to transform each item in an iterable without writing an explicit loop.\n",
        "\n",
        "syntax - map(function, iterable)\n",
        "eg:\n",
        "\n",
        "    nums = [1, 2, 3, 4]\n",
        "\n",
        "    squares = map(lambda x: x ** 2, nums)\n",
        "\n",
        "    print(list(squares))  # Output: [1, 4, 9, 16]\n"
      ],
      "metadata": {
        "id": "ZBszSzrdrOYI"
      }
    },
    {
      "cell_type": "markdown",
      "source": [
        "10. What is the difference between `map()`, `reduce()`, and `filter()` functions in Python?\n",
        "\n",
        "\n",
        "---\n",
        "1. map() — Transforms Each Item.\n",
        "Applies a function to each item in an iterable and returns a new iterable (map object) with the results.\n",
        "eg:\n",
        "\n",
        "    nums = [1, 2, 3, 4]\n",
        "\n",
        "    squares = map(lambda x: x ** 2, nums)\n",
        "\n",
        "    print(list(squares))  # Output: [1, 4, 9, 16]\n",
        "\n",
        "2. filter() — Filters Items Based on a Condition\n",
        "Applies a function that returns True or False to each item and keeps only the items for which the function returns True.\n",
        "eg:\n",
        "\n",
        "    nums = [1, 2, 3, 4, 5]\n",
        "\n",
        "    evens = filter(lambda x: x % 2 == 0, nums)\n",
        "    \n",
        "    print(list(evens))  # Output: [2, 4]\n",
        "\n",
        "3. reduce() — Reduces to a Single Value\n",
        "Applies a function cumulatively to the items in a sequence, so as to reduce the iterable to a single result.\n",
        "eg:\n",
        "\n",
        "    from functools import reduce\n",
        "\n",
        "    nums = [1, 2, 3, 4]\n",
        "\n",
        "    total = reduce(lambda x, y: x + y, nums)\n",
        "\n",
        "    print(total)  # Output: 10\n"
      ],
      "metadata": {
        "id": "dgp7fEx8rtXd"
      }
    },
    {
      "cell_type": "markdown",
      "source": [
        "11. Using pen & Paper write the internal mechanism for sum operation using  reduce function on this given\n",
        "list:[47,11,42,13];\n",
        " (Attach paper image for this answer) in doc or colab notebook.\n",
        "\n",
        "\n",
        "---\n",
        "\n",
        "![WhatsApp Image 2025-09-26 at 12.45.18 PM.jpeg](data:image/jpeg;base64,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)"
      ],
      "metadata": {
        "id": "4k2hqRkxshxd"
      }
    },
    {
      "cell_type": "markdown",
      "source": [
        "***Practical Questions:***"
      ],
      "metadata": {
        "id": "MxOhfitDs4_W"
      }
    },
    {
      "cell_type": "markdown",
      "source": [
        "1. Write a Python function that takes a list of numbers as input and returns the sum of all even numbers in\n",
        "the list.\n",
        "\n",
        "\n",
        "---\n",
        "\n"
      ],
      "metadata": {
        "id": "TtX5tT0JtB_9"
      }
    },
    {
      "cell_type": "code",
      "source": [
        "def sum_even_numbers(numbers):\n",
        "    total = 0\n",
        "    for num in numbers:\n",
        "        if num % 2 == 0:\n",
        "            total += num\n",
        "    return total\n",
        "\n",
        "nums = [10, 15, 20, 25, 30]\n",
        "result = sum_even_numbers(nums)\n",
        "print(\"Sum of even numbers:\", result)\n"
      ],
      "metadata": {
        "colab": {
          "base_uri": "https://localhost:8080/"
        },
        "id": "M7BU3Ssesbsq",
        "outputId": "2c6c0e6b-7c52-4aa8-9e08-da8ddc6a9a81"
      },
      "execution_count": 20,
      "outputs": [
        {
          "output_type": "stream",
          "name": "stdout",
          "text": [
            "Sum of even numbers: 60\n"
          ]
        }
      ]
    },
    {
      "cell_type": "markdown",
      "source": [
        "2. Create a Python function that accepts a string and returns the reverse of that string.\n",
        "\n",
        "\n",
        "---\n",
        "\n"
      ],
      "metadata": {
        "id": "2oa6yr80vIDJ"
      }
    },
    {
      "cell_type": "code",
      "source": [
        "def reverse_string(s):\n",
        "    reversed_str = \"\"\n",
        "    for char in s:\n",
        "        reversed_str = char + reversed_str  # Prepend each character\n",
        "    return reversed_str\n",
        "print(reverse_string(\"hello\"))  # Output: \"olleh\"\n"
      ],
      "metadata": {
        "colab": {
          "base_uri": "https://localhost:8080/"
        },
        "id": "-HLcOpkptSqP",
        "outputId": "36961e6e-aa19-46d8-b62c-dc0d65312c86"
      },
      "execution_count": 21,
      "outputs": [
        {
          "output_type": "stream",
          "name": "stdout",
          "text": [
            "olleh\n"
          ]
        }
      ]
    },
    {
      "cell_type": "markdown",
      "source": [
        "3. Implement a Python function that takes a list of integers and returns a new list containing the squares of\n",
        "each number.\n",
        "\n",
        "\n",
        "---\n",
        "\n"
      ],
      "metadata": {
        "id": "DDslYj3vwRRQ"
      }
    },
    {
      "cell_type": "code",
      "source": [
        "def square_numbers(numbers):\n",
        "    squared_list = []\n",
        "    for num in numbers:\n",
        "        squared_list.append(num ** 2)\n",
        "    return squared_list\n",
        "nums = [1, 2, 3, 4, 5]\n",
        "result = square_numbers(nums)\n",
        "print(\"Squared numbers:\", result)\n"
      ],
      "metadata": {
        "colab": {
          "base_uri": "https://localhost:8080/"
        },
        "id": "UZ04NF_LvV7I",
        "outputId": "cf2b7248-d237-4b44-8139-f93fe4fc4a3d"
      },
      "execution_count": 22,
      "outputs": [
        {
          "output_type": "stream",
          "name": "stdout",
          "text": [
            "Squared numbers: [1, 4, 9, 16, 25]\n"
          ]
        }
      ]
    },
    {
      "cell_type": "markdown",
      "source": [
        "4. Write a Python function that checks if a given number is prime or not from 1 to 200\n",
        "\n",
        "\n",
        "---\n",
        "\n"
      ],
      "metadata": {
        "id": "1MX16jw9wh9s"
      }
    },
    {
      "cell_type": "code",
      "source": [
        "def is_prime(n):\n",
        "    if n < 2:\n",
        "        return False\n",
        "    for i in range(2, int(n ** 0.5) + 1):\n",
        "        if n % i == 0:\n",
        "            return False\n",
        "    return True\n",
        "for number in range(1, 201):\n",
        "    if is_prime(number):\n",
        "        print(f\"{number} is a prime number\")\n",
        "    else:\n",
        "        print(f\"{number} is not a prime number\")\n"
      ],
      "metadata": {
        "colab": {
          "base_uri": "https://localhost:8080/"
        },
        "id": "5U1dp3_KwgOb",
        "outputId": "43259cad-02d5-4202-9825-55becda34965"
      },
      "execution_count": 23,
      "outputs": [
        {
          "output_type": "stream",
          "name": "stdout",
          "text": [
            "1 is not a prime number\n",
            "2 is a prime number\n",
            "3 is a prime number\n",
            "4 is not a prime number\n",
            "5 is a prime number\n",
            "6 is not a prime number\n",
            "7 is a prime number\n",
            "8 is not a prime number\n",
            "9 is not a prime number\n",
            "10 is not a prime number\n",
            "11 is a prime number\n",
            "12 is not a prime number\n",
            "13 is a prime number\n",
            "14 is not a prime number\n",
            "15 is not a prime number\n",
            "16 is not a prime number\n",
            "17 is a prime number\n",
            "18 is not a prime number\n",
            "19 is a prime number\n",
            "20 is not a prime number\n",
            "21 is not a prime number\n",
            "22 is not a prime number\n",
            "23 is a prime number\n",
            "24 is not a prime number\n",
            "25 is not a prime number\n",
            "26 is not a prime number\n",
            "27 is not a prime number\n",
            "28 is not a prime number\n",
            "29 is a prime number\n",
            "30 is not a prime number\n",
            "31 is a prime number\n",
            "32 is not a prime number\n",
            "33 is not a prime number\n",
            "34 is not a prime number\n",
            "35 is not a prime number\n",
            "36 is not a prime number\n",
            "37 is a prime number\n",
            "38 is not a prime number\n",
            "39 is not a prime number\n",
            "40 is not a prime number\n",
            "41 is a prime number\n",
            "42 is not a prime number\n",
            "43 is a prime number\n",
            "44 is not a prime number\n",
            "45 is not a prime number\n",
            "46 is not a prime number\n",
            "47 is a prime number\n",
            "48 is not a prime number\n",
            "49 is not a prime number\n",
            "50 is not a prime number\n",
            "51 is not a prime number\n",
            "52 is not a prime number\n",
            "53 is a prime number\n",
            "54 is not a prime number\n",
            "55 is not a prime number\n",
            "56 is not a prime number\n",
            "57 is not a prime number\n",
            "58 is not a prime number\n",
            "59 is a prime number\n",
            "60 is not a prime number\n",
            "61 is a prime number\n",
            "62 is not a prime number\n",
            "63 is not a prime number\n",
            "64 is not a prime number\n",
            "65 is not a prime number\n",
            "66 is not a prime number\n",
            "67 is a prime number\n",
            "68 is not a prime number\n",
            "69 is not a prime number\n",
            "70 is not a prime number\n",
            "71 is a prime number\n",
            "72 is not a prime number\n",
            "73 is a prime number\n",
            "74 is not a prime number\n",
            "75 is not a prime number\n",
            "76 is not a prime number\n",
            "77 is not a prime number\n",
            "78 is not a prime number\n",
            "79 is a prime number\n",
            "80 is not a prime number\n",
            "81 is not a prime number\n",
            "82 is not a prime number\n",
            "83 is a prime number\n",
            "84 is not a prime number\n",
            "85 is not a prime number\n",
            "86 is not a prime number\n",
            "87 is not a prime number\n",
            "88 is not a prime number\n",
            "89 is a prime number\n",
            "90 is not a prime number\n",
            "91 is not a prime number\n",
            "92 is not a prime number\n",
            "93 is not a prime number\n",
            "94 is not a prime number\n",
            "95 is not a prime number\n",
            "96 is not a prime number\n",
            "97 is a prime number\n",
            "98 is not a prime number\n",
            "99 is not a prime number\n",
            "100 is not a prime number\n",
            "101 is a prime number\n",
            "102 is not a prime number\n",
            "103 is a prime number\n",
            "104 is not a prime number\n",
            "105 is not a prime number\n",
            "106 is not a prime number\n",
            "107 is a prime number\n",
            "108 is not a prime number\n",
            "109 is a prime number\n",
            "110 is not a prime number\n",
            "111 is not a prime number\n",
            "112 is not a prime number\n",
            "113 is a prime number\n",
            "114 is not a prime number\n",
            "115 is not a prime number\n",
            "116 is not a prime number\n",
            "117 is not a prime number\n",
            "118 is not a prime number\n",
            "119 is not a prime number\n",
            "120 is not a prime number\n",
            "121 is not a prime number\n",
            "122 is not a prime number\n",
            "123 is not a prime number\n",
            "124 is not a prime number\n",
            "125 is not a prime number\n",
            "126 is not a prime number\n",
            "127 is a prime number\n",
            "128 is not a prime number\n",
            "129 is not a prime number\n",
            "130 is not a prime number\n",
            "131 is a prime number\n",
            "132 is not a prime number\n",
            "133 is not a prime number\n",
            "134 is not a prime number\n",
            "135 is not a prime number\n",
            "136 is not a prime number\n",
            "137 is a prime number\n",
            "138 is not a prime number\n",
            "139 is a prime number\n",
            "140 is not a prime number\n",
            "141 is not a prime number\n",
            "142 is not a prime number\n",
            "143 is not a prime number\n",
            "144 is not a prime number\n",
            "145 is not a prime number\n",
            "146 is not a prime number\n",
            "147 is not a prime number\n",
            "148 is not a prime number\n",
            "149 is a prime number\n",
            "150 is not a prime number\n",
            "151 is a prime number\n",
            "152 is not a prime number\n",
            "153 is not a prime number\n",
            "154 is not a prime number\n",
            "155 is not a prime number\n",
            "156 is not a prime number\n",
            "157 is a prime number\n",
            "158 is not a prime number\n",
            "159 is not a prime number\n",
            "160 is not a prime number\n",
            "161 is not a prime number\n",
            "162 is not a prime number\n",
            "163 is a prime number\n",
            "164 is not a prime number\n",
            "165 is not a prime number\n",
            "166 is not a prime number\n",
            "167 is a prime number\n",
            "168 is not a prime number\n",
            "169 is not a prime number\n",
            "170 is not a prime number\n",
            "171 is not a prime number\n",
            "172 is not a prime number\n",
            "173 is a prime number\n",
            "174 is not a prime number\n",
            "175 is not a prime number\n",
            "176 is not a prime number\n",
            "177 is not a prime number\n",
            "178 is not a prime number\n",
            "179 is a prime number\n",
            "180 is not a prime number\n",
            "181 is a prime number\n",
            "182 is not a prime number\n",
            "183 is not a prime number\n",
            "184 is not a prime number\n",
            "185 is not a prime number\n",
            "186 is not a prime number\n",
            "187 is not a prime number\n",
            "188 is not a prime number\n",
            "189 is not a prime number\n",
            "190 is not a prime number\n",
            "191 is a prime number\n",
            "192 is not a prime number\n",
            "193 is a prime number\n",
            "194 is not a prime number\n",
            "195 is not a prime number\n",
            "196 is not a prime number\n",
            "197 is a prime number\n",
            "198 is not a prime number\n",
            "199 is a prime number\n",
            "200 is not a prime number\n"
          ]
        }
      ]
    },
    {
      "cell_type": "markdown",
      "source": [
        "5. Create an iterator class in Python that generates the Fibonacci sequence up to a specified number of\n",
        "terms.\n",
        "\n",
        "\n",
        "---\n",
        "\n"
      ],
      "metadata": {
        "id": "GWv-buJGw3d7"
      }
    },
    {
      "cell_type": "code",
      "source": [
        "class FibonacciIterator:\n",
        "    def __init__(self, max_terms):\n",
        "        self.max_terms = max_terms\n",
        "        self.count = 0\n",
        "        self.a, self.b = 0, 1\n",
        "\n",
        "    def __iter__(self):\n",
        "        return self\n",
        "\n",
        "    def __next__(self):\n",
        "        if self.count >= self.max_terms:\n",
        "            raise StopIteration\n",
        "        fib = self.a\n",
        "        self.a, self.b = self.b, self.a + self.b\n",
        "        self.count += 1\n",
        "        return fib\n",
        "\n",
        "fib_sequence = FibonacciIterator(10)\n",
        "\n",
        "for num in fib_sequence:\n",
        "    print(num)\n",
        "\n"
      ],
      "metadata": {
        "colab": {
          "base_uri": "https://localhost:8080/"
        },
        "id": "_a-4TYVHwuWN",
        "outputId": "847ebd62-80d0-47a5-b7d1-748bd0c7e8f1"
      },
      "execution_count": 24,
      "outputs": [
        {
          "output_type": "stream",
          "name": "stdout",
          "text": [
            "0\n",
            "1\n",
            "1\n",
            "2\n",
            "3\n",
            "5\n",
            "8\n",
            "13\n",
            "21\n",
            "34\n"
          ]
        }
      ]
    },
    {
      "cell_type": "markdown",
      "source": [
        "6. Write a generator function in Python that yields the powers of 2 up to a given exponent.\n",
        "\n",
        "\n",
        "---\n",
        "\n"
      ],
      "metadata": {
        "id": "_Qy2DAkyxSxU"
      }
    },
    {
      "cell_type": "code",
      "source": [
        "def powers_of_two(max_exponent):\n",
        "    for exp in range(max_exponent + 1):\n",
        "        yield 2 ** exp\n",
        "for value in powers_of_two(5):\n",
        "    print(value)\n"
      ],
      "metadata": {
        "colab": {
          "base_uri": "https://localhost:8080/"
        },
        "id": "EaSpIwdNxQ2n",
        "outputId": "731c8b5b-4658-42c5-df91-e216a8a7c520"
      },
      "execution_count": 25,
      "outputs": [
        {
          "output_type": "stream",
          "name": "stdout",
          "text": [
            "1\n",
            "2\n",
            "4\n",
            "8\n",
            "16\n",
            "32\n"
          ]
        }
      ]
    },
    {
      "cell_type": "markdown",
      "source": [
        "7. Implement a generator function that reads a file line by line and yields each line as a string.\n",
        "\n",
        "\n",
        "---\n",
        "\n"
      ],
      "metadata": {
        "id": "fJ9XevsfxqUR"
      }
    },
    {
      "cell_type": "code",
      "source": [
        "def square_number_generators(n):\n",
        "    for i in range(n):\n",
        "        yield i**2\n",
        "\n",
        "\n",
        "\n",
        ""
      ],
      "metadata": {
        "id": "ajpVu12kxiQ7"
      },
      "execution_count": 31,
      "outputs": []
    },
    {
      "cell_type": "code",
      "source": [
        "square_number_generators(10)\n",
        "\n",
        "gen = square_number_generators(10)\n",
        "gen"
      ],
      "metadata": {
        "colab": {
          "base_uri": "https://localhost:8080/"
        },
        "id": "2Y4n81vmzGk7",
        "outputId": "7dac88c9-4470-4cfc-e5fb-e1fef28dac0d"
      },
      "execution_count": 41,
      "outputs": [
        {
          "output_type": "execute_result",
          "data": {
            "text/plain": [
              "<generator object square_number_generators at 0x7f56c4e2de00>"
            ]
          },
          "metadata": {},
          "execution_count": 41
        }
      ]
    },
    {
      "cell_type": "code",
      "source": [
        "next(gen)"
      ],
      "metadata": {
        "colab": {
          "base_uri": "https://localhost:8080/"
        },
        "id": "5mXurOVezssi",
        "outputId": "9379bb5c-d3ce-4bf4-803b-792e1c4b67af"
      },
      "execution_count": 42,
      "outputs": [
        {
          "output_type": "execute_result",
          "data": {
            "text/plain": [
              "0"
            ]
          },
          "metadata": {},
          "execution_count": 42
        }
      ]
    },
    {
      "cell_type": "code",
      "source": [
        "next(gen)"
      ],
      "metadata": {
        "colab": {
          "base_uri": "https://localhost:8080/"
        },
        "id": "mtgla8nvz386",
        "outputId": "592c12cb-d0b4-4d36-c993-1d393edabc1c"
      },
      "execution_count": 43,
      "outputs": [
        {
          "output_type": "execute_result",
          "data": {
            "text/plain": [
              "1"
            ]
          },
          "metadata": {},
          "execution_count": 43
        }
      ]
    },
    {
      "cell_type": "code",
      "source": [
        "next(gen)"
      ],
      "metadata": {
        "colab": {
          "base_uri": "https://localhost:8080/"
        },
        "id": "hy-vBKBMz-Lr",
        "outputId": "4f1648a4-3305-43c8-d27f-242282a1410b"
      },
      "execution_count": 44,
      "outputs": [
        {
          "output_type": "execute_result",
          "data": {
            "text/plain": [
              "4"
            ]
          },
          "metadata": {},
          "execution_count": 44
        }
      ]
    },
    {
      "cell_type": "code",
      "source": [
        "next(gen) # It will goes upto 10"
      ],
      "metadata": {
        "colab": {
          "base_uri": "https://localhost:8080/"
        },
        "id": "mgltDCUb0AUb",
        "outputId": "9baab07b-833d-4b5d-9e31-023460e1dee5"
      },
      "execution_count": 45,
      "outputs": [
        {
          "output_type": "execute_result",
          "data": {
            "text/plain": [
              "9"
            ]
          },
          "metadata": {},
          "execution_count": 45
        }
      ]
    },
    {
      "cell_type": "markdown",
      "source": [
        "8. Use a lambda function in Python to sort a list of tuples based on the second element of each tuple.\n",
        "\n",
        "\n",
        "---\n",
        "\n"
      ],
      "metadata": {
        "id": "ALK7kPtU0YwU"
      }
    },
    {
      "cell_type": "code",
      "source": [
        "\n",
        "data = [(1, 3), (4, 1), (2, 5), (3, 2)]\n",
        "\n",
        "sorted_data = sorted(data, key=lambda x: x[1])\n",
        "\n",
        "print(sorted_data)\n"
      ],
      "metadata": {
        "colab": {
          "base_uri": "https://localhost:8080/"
        },
        "id": "aeXhIxMK0KzH",
        "outputId": "f31ee9a2-8d89-42cd-b00c-011a9f27a4b6"
      },
      "execution_count": 47,
      "outputs": [
        {
          "output_type": "stream",
          "name": "stdout",
          "text": [
            "[(4, 1), (3, 2), (1, 3), (2, 5)]\n"
          ]
        }
      ]
    },
    {
      "cell_type": "markdown",
      "source": [
        "9. Write a Python program that uses `map()` to convert a list of temperatures from Celsius to Fahrenheit.\n",
        "\n",
        "\n",
        "---\n",
        "\n"
      ],
      "metadata": {
        "id": "AT8QVWod09pK"
      }
    },
    {
      "cell_type": "code",
      "source": [
        "\n",
        "celsius = [0, 10, 20, 30, 40]\n",
        "fahrenheit = list(map(lambda c: (c * 9/5) + 32, celsius))\n",
        "print(\"Celsius:    \", celsius)\n",
        "print(\"Fahrenheit: \", fahrenheit)\n"
      ],
      "metadata": {
        "colab": {
          "base_uri": "https://localhost:8080/"
        },
        "id": "vmXtpye404so",
        "outputId": "d0cba798-887e-4d58-de65-e4bffa9dd958"
      },
      "execution_count": 48,
      "outputs": [
        {
          "output_type": "stream",
          "name": "stdout",
          "text": [
            "Celsius:     [0, 10, 20, 30, 40]\n",
            "Fahrenheit:  [32.0, 50.0, 68.0, 86.0, 104.0]\n"
          ]
        }
      ]
    },
    {
      "cell_type": "markdown",
      "source": [
        "10. Create a Python program that uses `filter()` to remove all the vowels from a given string.\n",
        "\n",
        "\n",
        "---\n",
        "\n"
      ],
      "metadata": {
        "id": "4qaI5xWx1R9a"
      }
    },
    {
      "cell_type": "code",
      "source": [
        "def remove_vowels(input_str):\n",
        "    vowels = 'aeiouAEIOU'\n",
        "\n",
        "    no_vowels = filter(lambda ch: ch not in vowels, input_str)\n",
        "    return ''.join(no_vowels)\n",
        "text = \"Hello, how are you?\"\n",
        "result = remove_vowels(text)\n",
        "\n",
        "print(\"Original string:\", text)\n",
        "print(\"Without vowels: \", result)\n"
      ],
      "metadata": {
        "colab": {
          "base_uri": "https://localhost:8080/"
        },
        "id": "_M-E6yB31QVX",
        "outputId": "942a5db5-f72e-491d-dc11-50a068e8831c"
      },
      "execution_count": 49,
      "outputs": [
        {
          "output_type": "stream",
          "name": "stdout",
          "text": [
            "Original string: Hello, how are you?\n",
            "Without vowels:  Hll, hw r y?\n"
          ]
        }
      ]
    },
    {
      "cell_type": "markdown",
      "source": [
        "11) Imagine an accounting routine used in a book shop. It works on a list with sublists, which look like this:\n",
        "\n",
        "\n",
        "\n",
        "\n",
        "\n",
        "\n",
        "\n",
        "Write a Python program, which returns a list with 2-tuples. Each tuple consists of the order number and the\n",
        "product of the price per item and the quantity. The product should be increased by 10,- € if the value of the\n",
        "order is smaller than 100,00 €.\n",
        "\n",
        "Write a Python program using lambda and map.\n",
        "\n",
        "\n",
        "---\n",
        "\n"
      ],
      "metadata": {
        "id": "MXhmFprp12yF"
      }
    },
    {
      "cell_type": "code",
      "source": [
        "\n",
        "orders = [\n",
        "    [34587, \"Learning Python\", 4, 40.95],\n",
        "    [98762, \"Programming in C\", 5, 15.85],\n",
        "    [77226, \"Head First Java\", 3, 59.99],\n",
        "    [88112, \"Python for Data Analysis\", 3, 45.00]\n",
        "]\n",
        "\n",
        "\n",
        "result = list(map(lambda order: (\n",
        "    order[0],\n",
        "    order[2] * order[3] + (10 if order[2] * order[3] < 100 else 0)\n",
        "), orders))\n",
        "\n",
        "print(result)\n"
      ],
      "metadata": {
        "colab": {
          "base_uri": "https://localhost:8080/"
        },
        "id": "M2HtmNZj1m3l",
        "outputId": "9a675b88-8313-4d32-9128-09b34eba15bf"
      },
      "execution_count": 51,
      "outputs": [
        {
          "output_type": "stream",
          "name": "stdout",
          "text": [
            "[(34587, 163.8), (98762, 89.25), (77226, 179.97), (88112, 135.0)]\n"
          ]
        }
      ]
    },
    {
      "cell_type": "code",
      "source": [],
      "metadata": {
        "id": "KaLuRTJC44YX"
      },
      "execution_count": null,
      "outputs": []
    }
  ]
}