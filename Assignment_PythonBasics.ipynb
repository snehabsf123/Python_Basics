{
  "nbformat": 4,
  "nbformat_minor": 0,
  "metadata": {
    "colab": {
      "provenance": []
    },
    "kernelspec": {
      "name": "python3",
      "display_name": "Python 3"
    },
    "language_info": {
      "name": "python"
    }
  },
  "cells": [
    {
      "cell_type": "code",
      "execution_count": null,
      "metadata": {
        "id": "5Y2jeGfLwrKE"
      },
      "outputs": [],
      "source": []
    },
    {
      "cell_type": "markdown",
      "source": [
        "1)  What is Python, and why is it popular\n",
        "\n",
        "---\n",
        "\n",
        "\n",
        "\n",
        "    Python is a highlevel, interpreted programming language which is easy to learn and supported by a huge community and powerful libraries.\n",
        "\n",
        "    Python is popular because:\n",
        "    . Ease of learning\n",
        "    . Widely used in industry.\n",
        "    . Lot of libraries\n",
        "    . Versatile\n",
        "    . Cross platform\n",
        "\n",
        "    eg: one line code.\n",
        "    print(\"Hello, World!\")\n",
        "    output:\n",
        "    Hello, World!\n",
        "\n"
      ],
      "metadata": {
        "id": "bk22Jzsuwxmx"
      }
    },
    {
      "cell_type": "markdown",
      "source": [
        "2)  What is an interpreter in Python\n",
        "\n",
        "---\n",
        "\n",
        "\n",
        "\n",
        ">  Interpreter in python is a program that read and executes the code line by line.\n",
        "\n",
        "      For eg:  > Write the code first in .py or .ipynb.\n",
        "               > Convert into machine language\n",
        "               > Execute the code\n",
        "               > Move to next line\n",
        "          \n",
        "      eg:\n",
        "      x = 10\n",
        "      y = 5\n",
        "      print(x + y)\n",
        "\n",
        "    When we run this code\n",
        "    Reads x = 10 → stores 10 in x.\n",
        "    Reads y = 5 → stores 5 in y.\n",
        "    Reads print(x + y) → calculates 10 + 5 and prints 15.\n",
        "\n",
        "\n",
        "\n",
        "\n",
        "\n"
      ],
      "metadata": {
        "id": "iLAK_ulPyx84"
      }
    },
    {
      "cell_type": "markdown",
      "source": [
        "3. What are pre-defined keywords in Python\n",
        "\n",
        "---\n",
        "   Pre defined keywords are reserved keywords which is used for core syntax.\n",
        "   \n",
        "   \n",
        "   Category\tExamples\n",
        "     \n",
        "\n",
        "*  Control Flow >\tif, else, elif, while, for, break, continue, pass\n",
        "*  Boolean Logic >\tTrue, False, not, and, or  \n",
        "\n"
      ],
      "metadata": {
        "id": "zWNuXcJ21S1i"
      }
    },
    {
      "cell_type": "markdown",
      "source": [
        "4.  Can keywords be used as variable names\n",
        "\n",
        "---\n",
        "   \n",
        "   No we cannot use keywords as variable names in Python because Keywords are reserved words and if we use it as variable name then it throws an error.\n",
        "\n",
        "\n",
        "   eg:\n",
        "   class = \"Science\"  #  Error! 'class' is a keyword\n",
        "\n",
        "    \n"
      ],
      "metadata": {
        "id": "kqCHiLzQ4QtH"
      }
    },
    {
      "cell_type": "markdown",
      "source": [
        "5. What is mutability in Python ?\n",
        "\n",
        "---\n",
        "     Mutability means an object value is changed after created\n",
        "     eg: List, Dic, Set\n",
        "\n",
        "\n",
        "     Type\t    Mutable?\t    Example\n",
        "     list\t     Yes\t       [1, 2, 3] → can be changed\n",
        "     dict\t     Yes\t       {\"a\": 1} → can be changed\n",
        "     set\t     Yes\t       {1, 2, 3}\n",
        "     int\t      No\t        5 can't be changed\n",
        "     str\t      No\t         \"hello\" → can't be changed\n"
      ],
      "metadata": {
        "id": "2J4CspN97WQJ"
      }
    },
    {
      "cell_type": "markdown",
      "source": [
        "6)  Why are lists mutable, but tuples are immutable\n",
        "\n",
        "---\n",
        "     Lists are mutable as we can cahge its value after object is created but We cannot chage the value after object is created in Tuples so Tuples is immutable.\n",
        "\n",
        "\n",
        "     Lists are mutable:\n",
        "     my_list = [1, 2, 3]\n",
        "     my_list[0] = 10      # Change\n",
        "     my_list.append(4)    # Add\n",
        "     print(my_list)       # Output: [10, 2, 3, 4]\n",
        "\n",
        "     Tuples are immutable\n",
        "     my_tuple = (1, 2, 3)\n",
        "     # my_tuple[0] = 10   # ❌ Error: 'tuple' object does not support item assignment\n",
        "     print(my_tuple)      # Output: (1, 2, 3)\n",
        "\n"
      ],
      "metadata": {
        "id": "GU0PuaB_7mLh"
      }
    },
    {
      "cell_type": "markdown",
      "source": [
        "7)  What is the difference between “==” and “is” operators in Python\n",
        "\n",
        "---\n",
        "     \n",
        "\n",
        "*  Equality Operator( == ) is used to compare content of the variable and checks the two values are equal or not.\n",
        "*  Is opertor is used to compare identity and checks if two variables point to the same object in memory.\n",
        "       \n",
        "       eg: Equality operator\n",
        "       a = [1, 2, 3]\n",
        "       b = [1, 2, 3]\n",
        "       print(a == b)  #  True (same content)\n",
        "\n",
        "       Is operator\n",
        "       x = 5\n",
        "       y = 5\n",
        "       print(x == y)  #  True (same value)\n",
        "       print(x is y)  #  True (Python caches small integers)\n",
        "\n",
        "\n",
        "    \n",
        "\n"
      ],
      "metadata": {
        "id": "5VjUb5sf8QHA"
      }
    },
    {
      "cell_type": "markdown",
      "source": [
        "8)  What are logical operators in Python\n",
        "\n",
        "---\n",
        "    Logical operators are used to combine or modify boolean expressions in Python.\n",
        "    eg:  \n",
        "\n",
        "*   and - Returns True only if both conditions are True\n",
        "*   or - Returns True if at least one condition is True.\n",
        "*   not - Reverses the result\n",
        "\n",
        "\n",
        "   eg:\n",
        "   a = 7\n",
        "   b = 3\n",
        "\n",
        "   Using and\n",
        "   if a > 5 and b < 5:\n",
        "    print(\"Both conditions are True\")  #  This will print\n",
        "\n",
        "   Using 'or'\n",
        "   if a > 10 or b < 5:\n",
        "    print(\"At least one condition is True\")  #  This will also print\n",
        "\n",
        "   Using 'not'\n",
        "   if not a < 5:\n",
        "    print(\"a is NOT less than 5\")  # This will print\n",
        "\n",
        "\n"
      ],
      "metadata": {
        "id": "qbBA7j3T92UQ"
      }
    },
    {
      "cell_type": "markdown",
      "source": [
        "9.  What is type casting in Python\n",
        "\n",
        "---\n",
        "     Typecasting in Python is the process to change the data type of a value from one type to another — such as from int to float, str to int, etc\n",
        "\n",
        "     eg:\n",
        "     num_str = \"10\"\n",
        "     num_int = int(num_str)\n",
        "     print(num_int + 5)  # Output: 15\n",
        "\n"
      ],
      "metadata": {
        "id": "_Rkielz_-3_g"
      }
    },
    {
      "cell_type": "markdown",
      "source": [
        "10)  What is the difference between implicit and explicit type casting\n",
        "\n",
        "---\n",
        "     \n",
        "\n",
        "*   Implicit Typecasting - automatically converts one data type to another when it’s safe by python itself\n",
        "\n",
        "     \n",
        "\n",
        "*     eg:\n",
        "      x = 5         # Integer\n",
        "      y = 2.5       # Float\n",
        "      z = x + y     # Python converts `x` to float\n",
        "      print(z)      # Output: 7.5 (float)\n",
        "      print(type(z))  # <class 'float'>\n",
        "\n",
        "\n",
        "*   Explicit Typecasting - Manually convert a value from one data type to another using built-in functions like int(), float(), str(), etc.\n",
        "\n",
        "\n",
        "*     eg:\n",
        "      a = \"10\"\n",
        "      b = int(a)    # Explicitly cast string to int\n",
        "      print(b + 5)  # Output: 15\n",
        "\n",
        "\n",
        "\n",
        "\n",
        "\n"
      ],
      "metadata": {
        "id": "ZDrdzPZo_VMb"
      }
    },
    {
      "cell_type": "markdown",
      "source": [
        "11)  What is the purpose of conditional statements in Python\n",
        "\n",
        "---\n",
        "     Purpose of Conditional statements are to control the flow of a program by executing specific blocks of code only when certain conditions are met.\n",
        "\n",
        "     eg:\n",
        "     age = int(input(\"Enter your age: \"))\n",
        "     if age >= 18:\n",
        "     print(\"You are an adult.\")\n",
        "     elif age >= 13:\n",
        "     print(\"You are a teenager.\")\n",
        "     else:\n",
        "     print(\"You are a child.\")\n",
        "\n"
      ],
      "metadata": {
        "id": "Jm05CWhCAIxc"
      }
    },
    {
      "cell_type": "markdown",
      "source": [
        "12. How does the elif statement work\n",
        "\n",
        "---\n",
        "\n",
        "The elif statement is used to check multiple conditions in a Python program\n",
        "after the if statement.\n",
        "\n",
        "\n",
        "eg:\n",
        "\n",
        "score = 75\n",
        "\n",
        "if score >= 90:\n",
        "\n",
        "    print(\"Grade: A\")\n",
        "\n",
        "elif score >= 75:\n",
        "\n",
        "    print(\"Grade: B\")\n",
        "\n",
        "elif score >= 60:\n",
        "\n",
        "    print(\"Grade: C\")\n",
        "\n",
        "else:\n",
        "\n",
        "    print(\"Grade: F\")\n",
        "\n",
        "\n",
        "\n"
      ],
      "metadata": {
        "id": "4m70vtsOAhKC"
      }
    },
    {
      "cell_type": "markdown",
      "source": [
        "13. What is the difference between for and while loops\n",
        "\n",
        "---\n",
        "   Both for and while loops are used to repeat a block of code but thr difference is:\n",
        "\n",
        "\n",
        "*   For loop is used when we know how many times to loop but while loop is used When We don’t know in advance how many times to loop\n",
        "\n",
        "*   For loop Iterates over a sequence but while loop based on a condition being True\n",
        "\n",
        "\n",
        "eg: for loop\n",
        "\n",
        "for i in range(1, 6):\n",
        "\n",
        "    print(i)\n",
        "\n",
        "\n",
        "While loop\n",
        "\n",
        "i = 1\n",
        "\n",
        "while i <= 5:\n",
        "\n",
        "    print(i)\n",
        "\n",
        "    i += 1\n"
      ],
      "metadata": {
        "id": "5G0R5icKCyYh"
      }
    },
    {
      "cell_type": "markdown",
      "source": [
        "14.  Describe a scenario where a while loop is more suitable than a for loop.\n",
        "\n",
        "---\n",
        "     Asking a user for a password until they enter the correct one.\n",
        "\n",
        "\n",
        "\n",
        "*   While loop:\n",
        "        \n",
        "        correct_password = \"python123\"\n",
        "        user_input = \"\"\n",
        "\n",
        "        while user_input != correct_password:\n",
        "        user_input = input(\"Enter your password: \")\n",
        "\n",
        "        print(\"Access granted.\")\n",
        "\n",
        "*    For loop\n",
        "\n",
        "          correct_password = \"python123\"\n",
        "\n",
        "          for _ in range(100):  \n",
        "          user_input = input(\"Enter your password: \")\n",
        "          if user_input == correct_password:\n",
        "             print(\"Access granted.\")\n",
        "          break\n",
        "          else:\n",
        "             print(\"Too many attempts.\")        \n",
        "\n",
        "\n",
        "Conclusion:\n",
        "Here we need to guess a maximum number of attempts in for loop but While loop runs as long as needed until the user enters the correct password.\n",
        "So For loop is not ideal in this case."
      ],
      "metadata": {
        "id": "FK4lx4EzDspz"
      }
    },
    {
      "cell_type": "markdown",
      "source": [
        "**Practical Questions**"
      ],
      "metadata": {
        "id": "x9G7Ywe8FzQJ"
      }
    },
    {
      "cell_type": "markdown",
      "source": [
        "1.  Write a Python program to print \"Hello, World!\n",
        "\n",
        "---\n",
        "\n"
      ],
      "metadata": {
        "id": "EsDFR2iIGCSE"
      }
    },
    {
      "cell_type": "code",
      "source": [
        "print(\"Hello, World!\")"
      ],
      "metadata": {
        "colab": {
          "base_uri": "https://localhost:8080/"
        },
        "id": "pN8yomswFsYv",
        "outputId": "fc810804-c495-4fe1-b0d4-45086c8db3a9"
      },
      "execution_count": 1,
      "outputs": [
        {
          "output_type": "stream",
          "name": "stdout",
          "text": [
            "Hello, World!\n"
          ]
        }
      ]
    },
    {
      "cell_type": "markdown",
      "source": [
        "2. Write a Python program that displays your name and age\n",
        "\n",
        "---\n",
        "\n"
      ],
      "metadata": {
        "id": "MWB3mcoeGg5d"
      }
    },
    {
      "cell_type": "code",
      "source": [
        "name = \"Sneha\"\n",
        "age = 25\n",
        "\n",
        "print(\"name\", name)\n",
        "print(\"age\", age)"
      ],
      "metadata": {
        "colab": {
          "base_uri": "https://localhost:8080/"
        },
        "id": "UvazasboGeRS",
        "outputId": "e1a4c1af-fcd8-4d9a-f015-7c186ce667ae"
      },
      "execution_count": 2,
      "outputs": [
        {
          "output_type": "stream",
          "name": "stdout",
          "text": [
            "name Sneha\n",
            "age 25\n"
          ]
        }
      ]
    },
    {
      "cell_type": "markdown",
      "source": [
        "3. Write code to print all the pre-defined keywords in Python using the keyword library\n",
        "\n",
        "---\n",
        "\n"
      ],
      "metadata": {
        "id": "P2z8D9BVHHzc"
      }
    },
    {
      "cell_type": "code",
      "source": [
        "import keyword\n",
        "keywords = keyword.kwlist\n",
        "print(\"Python keywords:\\n\")\n",
        "for word in keywords:\n",
        "    print(word)"
      ],
      "metadata": {
        "colab": {
          "base_uri": "https://localhost:8080/"
        },
        "id": "TWLBXrZBG_lJ",
        "outputId": "9a01877d-5146-41e2-b290-67593d67fa8e"
      },
      "execution_count": 3,
      "outputs": [
        {
          "output_type": "stream",
          "name": "stdout",
          "text": [
            "Python keywords:\n",
            "\n",
            "False\n",
            "None\n",
            "True\n",
            "and\n",
            "as\n",
            "assert\n",
            "async\n",
            "await\n",
            "break\n",
            "class\n",
            "continue\n",
            "def\n",
            "del\n",
            "elif\n",
            "else\n",
            "except\n",
            "finally\n",
            "for\n",
            "from\n",
            "global\n",
            "if\n",
            "import\n",
            "in\n",
            "is\n",
            "lambda\n",
            "nonlocal\n",
            "not\n",
            "or\n",
            "pass\n",
            "raise\n",
            "return\n",
            "try\n",
            "while\n",
            "with\n",
            "yield\n"
          ]
        }
      ]
    },
    {
      "cell_type": "markdown",
      "source": [
        "4. Write a program that checks if a given word is a Python keyword.\n",
        "\n",
        "---\n",
        "\n"
      ],
      "metadata": {
        "id": "snd_QyOmH6u6"
      }
    },
    {
      "cell_type": "code",
      "source": [
        "import keyword\n",
        "word = input(\"Enter a word: \")\n",
        "if keyword.iskeyword(word):\n",
        "    print(f\"'{word}' is a Python keyword.\")\n",
        "else:\n",
        "    print(f\"'{word}' is NOT a Python keyword.\")"
      ],
      "metadata": {
        "colab": {
          "base_uri": "https://localhost:8080/"
        },
        "id": "r-c5AGJCH07v",
        "outputId": "f2909c8c-1e02-4eac-e9f6-49737f4ad7cd"
      },
      "execution_count": 4,
      "outputs": [
        {
          "output_type": "stream",
          "name": "stdout",
          "text": [
            "Enter a word: while\n",
            "'while' is a Python keyword.\n"
          ]
        }
      ]
    },
    {
      "cell_type": "markdown",
      "source": [
        "5. Create a list and tuple in Python, and demonstrate how attempting to change an element works differently\n",
        "for each\n",
        "\n",
        "---\n",
        "\n"
      ],
      "metadata": {
        "id": "z7ndHmeoISTK"
      }
    },
    {
      "cell_type": "code",
      "source": [
        "my_list = [10, 20, 30]\n",
        "print(\"Original list:\", my_list)\n",
        "my_list[1] = 99\n",
        "print(\"Modified list:\", my_list)\n",
        "my_tuple = (10, 20, 30)\n",
        "print(\"\\nOriginal tuple:\", my_tuple)\n",
        "my_tuple[1] = 99"
      ],
      "metadata": {
        "colab": {
          "base_uri": "https://localhost:8080/",
          "height": 245
        },
        "id": "aD7fv-ReIKcb",
        "outputId": "a4f31262-8632-4e11-8adc-6b2265e82713"
      },
      "execution_count": 6,
      "outputs": [
        {
          "output_type": "stream",
          "name": "stdout",
          "text": [
            "Original list: [10, 20, 30]\n",
            "Modified list: [10, 99, 30]\n",
            "\n",
            "Original tuple: (10, 20, 30)\n"
          ]
        },
        {
          "output_type": "error",
          "ename": "TypeError",
          "evalue": "'tuple' object does not support item assignment",
          "traceback": [
            "\u001b[0;31m---------------------------------------------------------------------------\u001b[0m",
            "\u001b[0;31mTypeError\u001b[0m                                 Traceback (most recent call last)",
            "\u001b[0;32m/tmp/ipython-input-3547575954.py\u001b[0m in \u001b[0;36m<cell line: 0>\u001b[0;34m()\u001b[0m\n\u001b[1;32m      5\u001b[0m \u001b[0mmy_tuple\u001b[0m \u001b[0;34m=\u001b[0m \u001b[0;34m(\u001b[0m\u001b[0;36m10\u001b[0m\u001b[0;34m,\u001b[0m \u001b[0;36m20\u001b[0m\u001b[0;34m,\u001b[0m \u001b[0;36m30\u001b[0m\u001b[0;34m)\u001b[0m\u001b[0;34m\u001b[0m\u001b[0;34m\u001b[0m\u001b[0m\n\u001b[1;32m      6\u001b[0m \u001b[0mprint\u001b[0m\u001b[0;34m(\u001b[0m\u001b[0;34m\"\\nOriginal tuple:\"\u001b[0m\u001b[0;34m,\u001b[0m \u001b[0mmy_tuple\u001b[0m\u001b[0;34m)\u001b[0m\u001b[0;34m\u001b[0m\u001b[0;34m\u001b[0m\u001b[0m\n\u001b[0;32m----> 7\u001b[0;31m \u001b[0mmy_tuple\u001b[0m\u001b[0;34m[\u001b[0m\u001b[0;36m1\u001b[0m\u001b[0;34m]\u001b[0m \u001b[0;34m=\u001b[0m \u001b[0;36m99\u001b[0m\u001b[0;34m\u001b[0m\u001b[0;34m\u001b[0m\u001b[0m\n\u001b[0m",
            "\u001b[0;31mTypeError\u001b[0m: 'tuple' object does not support item assignment"
          ]
        }
      ]
    },
    {
      "cell_type": "markdown",
      "source": [
        "6. Write a function to demonstrate the behavior of mutable and immutable arguments.\n",
        "\n",
        "---\n",
        "\n"
      ],
      "metadata": {
        "id": "LL3lvUbUJLsC"
      }
    },
    {
      "cell_type": "code",
      "source": [
        "def show_mutable_immutable(number, my_list):\n",
        "    print(\"Inside function before change:\")\n",
        "    print(\"Number:\", number)\n",
        "    print(\"List:\", my_list)\n",
        "    number = number + 5\n",
        "    my_list.append(5)\n",
        "    print(\"Inside function after change:\")\n",
        "    print(\"Number:\", number)\n",
        "    print(\"List:\", my_list)\n",
        "num = 10\n",
        "numbers = [1, 2, 3]\n",
        "print(\"Before function call:\")\n",
        "print(\"num =\", num)\n",
        "print(\"numbers =\", numbers)\n",
        "show_mutable_immutable(num, numbers)\n",
        "print(\"After function call:\")\n",
        "print(\"num =\", num)\n",
        "print(\"numbers =\", numbers)"
      ],
      "metadata": {
        "colab": {
          "base_uri": "https://localhost:8080/"
        },
        "id": "a2rJ88Vcdcca",
        "outputId": "9a8113f5-82cf-4fcd-eb6f-2083c89476e5"
      },
      "execution_count": 15,
      "outputs": [
        {
          "output_type": "stream",
          "name": "stdout",
          "text": [
            "Before function call:\n",
            "num = 10\n",
            "numbers = [1, 2, 3]\n",
            "Inside function before change:\n",
            "Number: 10\n",
            "List: [1, 2, 3]\n",
            "Inside function after change:\n",
            "Number: 15\n",
            "List: [1, 2, 3, 5]\n",
            "After function call:\n",
            "num = 10\n",
            "numbers = [1, 2, 3, 5]\n"
          ]
        }
      ]
    },
    {
      "cell_type": "markdown",
      "source": [
        "7. Write a program that performs basic arithmetic operations on two user-input numbers.\n",
        "\n",
        "---\n",
        "\n"
      ],
      "metadata": {
        "id": "LZ7_BTukWzgV"
      }
    },
    {
      "cell_type": "code",
      "source": [
        "num1 = float(input(\"Enter the first number: \"))\n",
        "num2 = float(input(\"Enter the second number: \"))\n",
        "addition = num1 + num2\n",
        "subtraction = num1 - num2\n",
        "multiplication = num1 * num2\n",
        "if num2 != 0:\n",
        "    division = num1 / num2\n",
        "else:\n",
        "    division = \"Undefined (cannot divide by zero)\"\n",
        "print(\"\\nResults:\")\n",
        "print(\"Addition:\", addition)\n",
        "print(\"Subtraction:\", subtraction)\n",
        "print(\"Multiplication:\", multiplication)\n",
        "print(\"Division:\", division)"
      ],
      "metadata": {
        "colab": {
          "base_uri": "https://localhost:8080/"
        },
        "id": "TZwrnJPIIvJT",
        "outputId": "98dacca1-c17c-4719-9edd-916f47a9df87"
      },
      "execution_count": 1,
      "outputs": [
        {
          "output_type": "stream",
          "name": "stdout",
          "text": [
            "Enter the first number: 10\n",
            "Enter the second number: 5\n",
            "\n",
            "Results:\n",
            "Addition: 15.0\n",
            "Subtraction: 5.0\n",
            "Multiplication: 50.0\n",
            "Division: 2.0\n"
          ]
        }
      ]
    },
    {
      "cell_type": "markdown",
      "source": [
        "8. Write a program to demonstrate the use of logical operators.\n",
        "\n",
        "---\n",
        "\n"
      ],
      "metadata": {
        "id": "lIWrL1zxXGrL"
      }
    },
    {
      "cell_type": "code",
      "source": [
        "age = int(input(\"Enter your age: \"))\n",
        "is_citizen = input(\"Are you a citizen? (yes/no): \").lower()\n",
        "is_citizen = is_citizen == \"yes\"\n",
        "if age >= 18 and is_citizen:\n",
        "    print(\"You are eligible to vote.\")\n",
        "else:\n",
        "    print(\"You are NOT eligible to vote.\")\n",
        "if age < 18 or not is_citizen:\n",
        "    print(\"You may need to wait or check your eligibility.\")\n",
        "if not (age >= 18 and is_citizen):\n",
        "    print(\"Voting eligibility requirements not fully met.\")"
      ],
      "metadata": {
        "colab": {
          "base_uri": "https://localhost:8080/"
        },
        "id": "QpCakY3ZXCRw",
        "outputId": "8986ba97-66db-4343-c440-2aef8331fb96"
      },
      "execution_count": 2,
      "outputs": [
        {
          "output_type": "stream",
          "name": "stdout",
          "text": [
            "Enter your age: 19\n",
            "Are you a citizen? (yes/no): yes\n",
            "You are eligible to vote.\n"
          ]
        }
      ]
    },
    {
      "cell_type": "markdown",
      "source": [
        "9. Write a Python program to convert user input from string to integer, float, and boolean types\n",
        "\n",
        "---\n",
        "\n"
      ],
      "metadata": {
        "id": "w1uZCvoMXuDg"
      }
    },
    {
      "cell_type": "code",
      "source": [
        "user_input = input(\"Enter a value: \")\n",
        "\n",
        "int_value = int(user_input)\n",
        "float_value = float(user_input)\n",
        "bool_value = bool(user_input)\n",
        "print(\"\\nConverted values:\")\n",
        "print(\"As integer:\", int_value)\n",
        "print(\"As float:\", float_value)\n",
        "print(\"As boolean:\", bool_value)"
      ],
      "metadata": {
        "colab": {
          "base_uri": "https://localhost:8080/"
        },
        "id": "ZixcTqw3XmFo",
        "outputId": "11874b77-deea-4ca8-97e6-4d0a21a163a3"
      },
      "execution_count": 5,
      "outputs": [
        {
          "output_type": "stream",
          "name": "stdout",
          "text": [
            "Enter a value: 25\n",
            "\n",
            "Converted values:\n",
            "As integer: 25\n",
            "As float: 25.0\n",
            "As boolean: True\n"
          ]
        }
      ]
    },
    {
      "cell_type": "markdown",
      "source": [
        "10. Write code to demonstrate type casting with list elements\n",
        "\n",
        "---\n",
        "\n"
      ],
      "metadata": {
        "id": "wokKpC5wYeTX"
      }
    },
    {
      "cell_type": "code",
      "source": [
        "string_numbers = [\"10\", \"20\", \"30\", \"40\"]\n",
        "int_numbers = []\n",
        "for item in string_numbers:\n",
        "    int_numbers.append(int(item))\n",
        "float_numbers = []\n",
        "for num in int_numbers:\n",
        "    float_numbers.append(float(num))\n",
        "print(\"Original (string) list:\", string_numbers)\n",
        "print(\"After casting to integers:\", int_numbers)\n",
        "print(\"After casting to floats:\", float_numbers)"
      ],
      "metadata": {
        "colab": {
          "base_uri": "https://localhost:8080/"
        },
        "id": "Ub3e4KK5YCas",
        "outputId": "e49baa99-8e24-4494-b72c-a0c3a721b51b"
      },
      "execution_count": 8,
      "outputs": [
        {
          "output_type": "stream",
          "name": "stdout",
          "text": [
            "Original (string) list: ['10', '20', '30', '40']\n",
            "After casting to integers: [10, 20, 30, 40]\n",
            "After casting to floats: [10.0, 20.0, 30.0, 40.0]\n"
          ]
        }
      ]
    },
    {
      "cell_type": "markdown",
      "source": [
        "11.  Write a program that checks if a number is positive, negative, or zero.\n",
        "\n",
        "---\n",
        "\n"
      ],
      "metadata": {
        "id": "BJMaBkkEZ59-"
      }
    },
    {
      "cell_type": "code",
      "source": [
        "num = float(input(\"Enter a number: \"))\n",
        "if num > 0:\n",
        "    print(\"The number is positive.\")\n",
        "elif num < 0:\n",
        "    print(\"The number is negative.\")\n",
        "else:\n",
        "    print(\"The number is zero.\")"
      ],
      "metadata": {
        "colab": {
          "base_uri": "https://localhost:8080/"
        },
        "id": "S-kxhniOZeLU",
        "outputId": "709aadf7-8412-4d82-cf69-c7bac2d02c79"
      },
      "execution_count": 9,
      "outputs": [
        {
          "output_type": "stream",
          "name": "stdout",
          "text": [
            "Enter a number: 21\n",
            "The number is positive.\n"
          ]
        }
      ]
    },
    {
      "cell_type": "markdown",
      "source": [
        "12. Write a for loop to print numbers from 1 to 10\n",
        "\n",
        "---\n",
        "\n"
      ],
      "metadata": {
        "id": "dab4KyksaHsO"
      }
    },
    {
      "cell_type": "code",
      "source": [
        "for i in range(1, 11):\n",
        "    print(i)"
      ],
      "metadata": {
        "colab": {
          "base_uri": "https://localhost:8080/"
        },
        "id": "XL7yJLXRaAoJ",
        "outputId": "6a6e48d3-50ad-43e3-a05b-f1a2e38910e1"
      },
      "execution_count": 10,
      "outputs": [
        {
          "output_type": "stream",
          "name": "stdout",
          "text": [
            "1\n",
            "2\n",
            "3\n",
            "4\n",
            "5\n",
            "6\n",
            "7\n",
            "8\n",
            "9\n",
            "10\n"
          ]
        }
      ]
    },
    {
      "cell_type": "markdown",
      "source": [
        "13. Write a Python program to find the sum of all even numbers between 1 and 50.\n",
        "\n",
        "---\n",
        "\n"
      ],
      "metadata": {
        "id": "notuakWwaR18"
      }
    },
    {
      "cell_type": "code",
      "source": [
        "even_sum = 0\n",
        "for num in range(1, 51):\n",
        "    if num % 2 == 0:\n",
        "        even_sum += num\n",
        "print(\"The sum of all even numbers between 1 and 50 is:\", even_sum)"
      ],
      "metadata": {
        "colab": {
          "base_uri": "https://localhost:8080/"
        },
        "id": "Vne9pwliaNHx",
        "outputId": "c8af6c01-a3b3-440f-e241-8409ef88484c"
      },
      "execution_count": 11,
      "outputs": [
        {
          "output_type": "stream",
          "name": "stdout",
          "text": [
            "The sum of all even numbers between 1 and 50 is: 650\n"
          ]
        }
      ]
    },
    {
      "cell_type": "markdown",
      "source": [
        "14. Write a program to reverse a string using a while loop.\n",
        "\n",
        "---\n",
        "\n"
      ],
      "metadata": {
        "id": "lUAeI0bLapKS"
      }
    },
    {
      "cell_type": "code",
      "source": [
        "original_string = input(\"Enter a string: \")\n",
        "reversed_string = \"\"\n",
        "index = len(original_string) - 1\n",
        "while index >= 0:\n",
        "    reversed_string += original_string[index]\n",
        "    index -= 1\n",
        "print(\"Reversed string:\", reversed_string)"
      ],
      "metadata": {
        "colab": {
          "base_uri": "https://localhost:8080/"
        },
        "id": "t9jK511eadGX",
        "outputId": "63512608-70ba-482d-d191-15fe0bfa0f58"
      },
      "execution_count": 12,
      "outputs": [
        {
          "output_type": "stream",
          "name": "stdout",
          "text": [
            "Enter a string: SNEHA\n",
            "Reversed string: AHENS\n"
          ]
        }
      ]
    },
    {
      "cell_type": "markdown",
      "source": [
        "15. Write a Python program to calculate the factorial of a number provided by the user using a while loop.\n",
        "\n",
        "---\n",
        "\n"
      ],
      "metadata": {
        "id": "HBUYCEi3bIT7"
      }
    },
    {
      "cell_type": "code",
      "source": [
        "num = int(input(\"Enter a non-negative integer: \"))\n",
        "if num < 0:\n",
        "    print(\"Factorial is not defined for negative numbers.\")\n",
        "else:\n",
        "    factorial = 1\n",
        "    i = 1\n",
        "    while i <= num:\n",
        "        factorial *= i\n",
        "        i += 1\n",
        "    print(f\"The factorial of {num} is {factorial}.\")"
      ],
      "metadata": {
        "colab": {
          "base_uri": "https://localhost:8080/"
        },
        "id": "s0EMzjn7a9UD",
        "outputId": "12cb05cd-617c-43c5-b7db-81d6ffba3410"
      },
      "execution_count": 13,
      "outputs": [
        {
          "output_type": "stream",
          "name": "stdout",
          "text": [
            "Enter a non-negative integer: -12\n",
            "Factorial is not defined for negative numbers.\n"
          ]
        }
      ]
    },
    {
      "cell_type": "code",
      "source": [],
      "metadata": {
        "id": "FjmRHTiVbW36"
      },
      "execution_count": null,
      "outputs": []
    }
  ]
}